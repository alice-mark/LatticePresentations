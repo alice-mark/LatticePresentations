{
 "cells": [
  {
   "cell_type": "code",
   "execution_count": 1,
   "metadata": {
    "collapsed": false
   },
   "outputs": [
   ],
   "source": [
    "#Make the field Q(i*sqrt(3)) and its ring of integers\n",
    "\n",
    "\n",
    "K = QuadraticField(-3,'a')\n",
    "B = K.integral_basis()\n",
    "\n",
    "a = B[1]\n",
    "t = (1+a)/2\n",
    "w = (-1+a)/2\n",
    "\n",
    "#################################################\n",
    "#Here are all the points and matrices:\n",
    "\n",
    "Id = matrix([[1,0,0],[0,1,0],[0,0,1]])\n",
    "\n",
    "Pinf = matrix([[1],[0],[0]])\n",
    "\n",
    "P0 = matrix([[0],[0],[1]])\n",
    "I0 = matrix([[0,0,1],[0,-1,0],[1,0,0]])\n",
    "\n",
    "P31 = matrix([[a/3],[0],[1]])\n",
    "A31 = matrix([[-1,0,a],[0,1,0],[a,0,2]])\n",
    "\n",
    "P32 = matrix([[2*a/3],[0],[1]])\n",
    "A32 = matrix([[-2,0,a],[0,1,0],[a,0,1]])\n",
    "\n",
    "P4 = matrix([[a/2],[0],[1]])\n",
    "A4 = matrix([[-a,0,-2],[0,-1,0],[-2,0,a]])\n",
    "\n",
    "\n",
    "#Gamma_infinity\n",
    "T1 = matrix([[1,-1, (-1+a)/2],[0,1,1],[0,0,1]])\n",
    "Ttau = matrix([[1,-(1-a)/2, (-1+a)/2],[0,1,(1+a)/2],[0,0,1]])\n",
    "R = matrix([[1,0,0],[0,t,0],[0,0,1]])\n",
    "\n",
    "Tv = Ttau*T1*Ttau^-1*T1^-1\n",
    "\n",
    "matrices_gamma_infinity = [['R',R],['T1',T1],['T1^-1',T1^-1],['Ttau',Ttau],['Ttau^-1',Ttau^-1]]\n",
    "\n",
    "matrices = [['I0',I0],['A31',A31],['A32',A32],['A4',A4]]\n",
    "points = [['P0',P0],['P31',P31],['P32',P32],['P4',P4]]"
   ]
  },
  {
   "cell_type": "code",
   "execution_count": 2,
   "metadata": {
    "collapsed": false
   },
   "outputs": [
   ],
   "source": [
    "# these are the scalars who clear the denominators of the prism points of each of their respective depths.  Technically d1 should contain 1, not empty, but that would be silly and would just mean we mutiply by 1 a lot.\n",
    "d1 = []\n",
    "d3 = [a]\n",
    "d4 = [2]\n",
    "depths = [d3,d4]"
   ]
  },
  {
   "cell_type": "code",
   "execution_count": 3,
   "metadata": {
    "collapsed": false
   },
   "outputs": [
   ],
   "source": [
    "#Compute the inner product of two vectors\n",
    "def ip(v1,v2):\n",
    "    return v2[2].conjugate()*v1[0] + v2[1].conjugate()*v1[1] + v2[0].conjugate()*v1[2]\n",
    "\n",
    "#Test if a (rational) number (not a vector) is in the ring of integers.\n",
    "def IsIntegral(n):\n",
    "    if (K.coerce(n)[0] in ZZ) & (K.coerce(n)[1] in ZZ):\n",
    "        return True\n",
    "    else:\n",
    "        if (K.coerce(n)[0]+1/2 in ZZ) & (K.coerce(n)[1]+1/2 in ZZ):\n",
    "            return True\n",
    "        else:\n",
    "            return False\n",
    "\n",
    "#Given a vector v, find its primitive integral lift.  Only works on points of depth up to 4 because what it does is multiply by all possible scalars that could clear the denominator and then checks if the coordinates are integral.\n",
    "def PrimIntLift(v):\n",
    "    if IsIntegral(v[0][0]) & IsIntegral(v[1][0]) & IsIntegral(v[2][0]):\n",
    "        return v\n",
    "    for d in depths:\n",
    "        for q in d:\n",
    "            w = v*q\n",
    "            if IsIntegral(w[0][0]) & IsIntegral(w[1][0]) & IsIntegral(w[2][0]):\n",
    "                return w\n",
    "    print(\"PIL: depth greater than 4\")\n",
    "    return False\n",
    "   \n",
    "#Find the level between two points.  Only works on points of depth up to 4.\n",
    "def level(v1,v2):\n",
    "    return K.coerce(ip(PrimIntLift(v1),PrimIntLift(v2))).norm()\n",
    "\n",
    "#Find the depth of a point.  Only works on points of depth up to 4.\n",
    "def depth(v):\n",
    "    PIL = PrimIntLift(v)\n",
    "    if PIL == False:\n",
    "        return False\n",
    "    return K.coerce(PIL[2][0]).norm()\n",
    "\n",
    "#Returns the imaginary part of an element of K.\n",
    "def ImPart(z):\n",
    "    return z[1]*-a*I\n",
    "\n",
    "#Computes the Cygan distance between two points.  What form are these points in?  Clearly not vector form.... \n",
    "def Cygan(p1,p2):\n",
    "    return ((p1[0]-p2[0]).norm()^2 + abs(p1[1]-p2[1]+2*ImPart(p2[0].conjugate()*p1[0]))^2)^(1/4)\n",
    "    \n",
    "def vectCygan(v1,v2):\n",
    "    nv1 = v1*v1[2][0]^(-1)\n",
    "    nv2 = v2*v2[2][0]^(-1)\n",
    "    prod = 2*ip(nv1,nv2)\n",
    "    return (prod.norm())^(1/4)\n",
    "    \n",
    "\n",
    "def pointToVect(z,t,u=0):\n",
    "    return matrix([[ (-K.coerce(z).norm() - u + t )/2 ],[z],[1]])"
   ]
  },
  {
   "cell_type": "code",
   "execution_count": 4,
   "metadata": {
    "collapsed": false
   },
   "outputs": [
    {
     "name": "stdout",
     "output_type": "stream",
     "text": [
      "2*(1/3)^(1/4)\n",
      "1.5196713713\n",
      "P32\n"
     ]
    }
   ],
   "source": [
    "max = [0,'P0']\n",
    "for p in points:\n",
    "    d = vectCygan(P0,p[1])\n",
    "    if d > max[0]:\n",
    "        max = [d,p[0]]\n",
    "print(max[0])\n",
    "print(float(max[0]))\n",
    "print(max[1])"
   ]
  },
  {
   "cell_type": "code",
   "execution_count": 5,
   "metadata": {
    "collapsed": false
   },
   "outputs": [
    {
     "name": "stdout",
     "output_type": "stream",
     "text": [
      "2*sqrt(2) + 2*(1/3)^(1/4)\n",
      "4.34809849605\n"
     ]
    }
   ],
   "source": [
    "#so, the radius within which the center must lie in order for there to be a hope of an intersection is \n",
    "print(2*sqrt(2)+2*(1/3)^(1/4))\n",
    "print(float(2*sqrt(2)+2*(1/3)^(1/4)))\n",
    "\n",
    "#Thus, we draw a Cygan sphere of radius 4.4 centered at the origin, and more than cover it with prism translates, just to be safe."
   ]
  },
  {
   "cell_type": "code",
   "execution_count": 6,
   "metadata": {
    "collapsed": false
   },
   "outputs": [
    {
     "data": {
      "image/png": "[encoded data removed]"
     },
     "execution_count": 6,
     "metadata": {
     },
     "output_type": "execute_result"
    }
   ],
   "source": [
    "var('x')\n",
    "Q = plot(sqrt(19.36-x^2),(x,-4.4,4.4),xmin=-5,xmax=5,ymin=-5,ymax=5,aspect_ratio=1,axes=False)\n",
    "Q += plot(-sqrt(19.36-x^2),(x,-4.4,4.4))\n",
    "n = -7\n",
    "while n < 7:\n",
    "    Q += plot(sqrt(3)*x+n*sqrt(3),(x,-5,5),color='purple')\n",
    "    Q += plot(-sqrt(3)*x+n*sqrt(3),(x,-5,5),color='purple')\n",
    "    n += 1\n",
    "\n",
    "n = -5\n",
    "while n < 6:\n",
    "    Q += plot(n*sqrt(3)/2,(x,-5,5),color='purple')\n",
    "    n += 1\n",
    "\n",
    "n=-5\n",
    "while n < 5:\n",
    "    k = -5\n",
    "    while k < 5:\n",
    "        Q += plot(1/sqrt(3)*x+k*sqrt(3),(x,n,n+1),color='red')\n",
    "        Q += plot(1/sqrt(3)*x+k*sqrt(3)+1/sqrt(3),(x,n+1/2,n+3/2),color='red')\n",
    "        Q += plot(1/sqrt(3)*x+k*sqrt(3)+2/sqrt(3),(x,n-1/2,n+1/2),color='red')\n",
    "        k += 1\n",
    "    n += 3/2\n",
    "\n",
    "n=-5\n",
    "while n < 5:\n",
    "    k = -5\n",
    "    while k < 5:\n",
    "        Q += plot(-1/sqrt(3)*x+k*sqrt(3),(x,n,n+1),color='red')\n",
    "        Q += plot(-1/sqrt(3)*x+k*sqrt(3)+1/sqrt(3),(x,n-1/2,n+1/2),color='red')\n",
    "        Q += plot(-1/sqrt(3)*x+k*sqrt(3)+2/sqrt(3),(x,n+1/2,n+3/2),color='red')\n",
    "        k += 1\n",
    "    n += 3/2\n",
    "\n",
    "n=-5\n",
    "while n < 5:\n",
    "    k = -4\n",
    "    while k < 5:\n",
    "        Q += line([(n,k),(n,k+2/sqrt(3))],color='red')\n",
    "        Q += line([(n+1/2,k-sqrt(3)/2),(n+1/2,k-sqrt(3)/2+2/sqrt(3))],color='red')\n",
    "        k += sqrt(3)\n",
    "    n += 1\n",
    "\n",
    "Q"
   ]
  },
  {
   "cell_type": "code",
   "execution_count": 7,
   "metadata": {
    "collapsed": false
   },
   "outputs": [
    {
     "data": {
      "image/png": "[encoded data removed]"
     },
     "execution_count": 7,
     "metadata": {
     },
     "output_type": "execute_result"
    }
   ],
   "source": [
    "S = plot(sqrt(4.4^4-x^4),(x,-4.4,4.4),xmin=-5,xmax=5,ymin=-25,ymax=25,aspect_ratio=.3,axes=False)\n",
    "S += plot(-sqrt(4.4^4-x^4),(x,-4.4,4.4))\n",
    "\n",
    "\n",
    "n = -6\n",
    "while n < 7:\n",
    "    S += plot(2*n*sqrt(3),(x,-6,-5),color='purple')\n",
    "    S += plot(2*n*sqrt(3),(x,-4,-3),color='purple')\n",
    "    S += plot(2*n*sqrt(3),(x,-2,-1),color='purple')\n",
    "    S += plot(2*n*sqrt(3),(x,0,1),color='purple')\n",
    "    S += plot(2*n*sqrt(3),(x,2,3),color='purple')\n",
    "    S += plot(2*n*sqrt(3),(x,4,5),color='purple')\n",
    "    S += plot((2*n+1)*sqrt(3),(x,-5,-4),color='purple')\n",
    "    S += plot((2*n+1)*sqrt(3),(x,-3,-2),color='purple')\n",
    "    S += plot((2*n+1)*sqrt(3),(x,-1,0),color='purple')\n",
    "    S += plot((2*n+1)*sqrt(3),(x,1,2),color='purple')\n",
    "    S += plot((2*n+1)*sqrt(3),(x,3,4),color='purple')\n",
    "    S += plot((2*n+1)*sqrt(3),(x,5,6),color='purple')\n",
    "    S += line([(n,-25), (n,25)],color='purple')\n",
    "    n += 1\n",
    "\n",
    "\n",
    "S"
   ]
  },
  {
   "cell_type": "code",
   "execution_count": 8,
   "metadata": {
    "collapsed": false
   },
   "outputs": [
   ],
   "source": [
    "#Get enough stuff to cover the whole base\n",
    "\n",
    "def vertDisp(m,n):\n",
    "    p = T1^m*Ttau^n*P0\n",
    "    return K.coerce(p[0][0][1])\n",
    "\n",
    "def stringlet(g,p):\n",
    "    if p == 0:\n",
    "        return 'Id'\n",
    "    if p == 1:\n",
    "        return g\n",
    "    return g+'^'+str(p)\n",
    "\n",
    "def startn(m):\n",
    "    if m == -6:\n",
    "        return 2\n",
    "    if m == -5:\n",
    "        return 0\n",
    "    if m == -4:\n",
    "        return -2\n",
    "    if m == -3:\n",
    "        return -3\n",
    "    if m == -2:\n",
    "        return -4\n",
    "    if m == -1:\n",
    "        return -4\n",
    "    if m == 0:\n",
    "        return -5\n",
    "    if m == 1:\n",
    "        return -5\n",
    "    if m == 2:\n",
    "        return -6\n",
    "    if m == 3:\n",
    "        return -6\n",
    "    if m == 4:\n",
    "        return -6\n",
    "    if m == 5:\n",
    "        return -4\n",
    "    if m == 6:\n",
    "        return -3\n",
    "        \n",
    "def endn(m):\n",
    "    if m == -6:\n",
    "        return 4\n",
    "    if m == -5:\n",
    "        return 5\n",
    "    if m == -4:\n",
    "        return 6\n",
    "    if m == -3:\n",
    "        return 6\n",
    "    if m == -2:\n",
    "        return 6\n",
    "    if m == -1:\n",
    "        return 5\n",
    "    if m == 0:\n",
    "        return 5\n",
    "    if m == 1:\n",
    "        return 4\n",
    "    if m == 2:\n",
    "        return 4\n",
    "    if m == 3:\n",
    "        return 3\n",
    "    if m == 4:\n",
    "        return 2\n",
    "    if m == 5:\n",
    "        return 0\n",
    "    if m == 6:\n",
    "        return -2\n",
    "\n",
    "Colors = []\n",
    "for i in range(100):\n",
    "    Colors.append([])\n",
    "\n",
    "m = -6\n",
    "while m <= 6:\n",
    "    n = startn(m)\n",
    "    while n <= endn(m):\n",
    "        d = 2*vertDisp(m,n)[0]\n",
    "        Colors[d].append([stringlet('T1',m)+'*'+stringlet('Ttau',n), T1^m*Ttau^n])\n",
    "        n +=1\n",
    "    m+=1"
   ]
  },
  {
   "cell_type": "code",
   "execution_count": 9,
   "metadata": {
    "collapsed": false
   },
   "outputs": [
   ],
   "source": [
    "#now make everyone go vertically\n",
    "\n",
    "VerticalColors = []\n",
    "for i in range(100):\n",
    "    VerticalColors.append([])\n",
    "\n",
    "for i in range(50):\n",
    "    pos = Colors[i]\n",
    "    neg = Colors[-i]\n",
    "    if (i%2 == 0):\n",
    "        for p in pos:\n",
    "            n = -6-i/2\n",
    "            while n <= 5-i/2:\n",
    "                g = [stringlet('Tv',n)+'*'+p[0],Tv^n*p[1]]\n",
    "                VerticalColors[i].append(g)\n",
    "                n += 1\n",
    "        for m in neg:\n",
    "            n = -6+i/2\n",
    "            while (n <= 5+i/2) and not(i == 0):\n",
    "                g = [stringlet('Tv',n)+'*'+m[0],Tv^n*m[1]]\n",
    "                VerticalColors[-i].append(g)\n",
    "                n += 1\n",
    "    if (i%2 == 1):\n",
    "        for p in pos:\n",
    "            n = -7-(i-1)/2\n",
    "            while n <= 5-(i-1)/2:\n",
    "                g = [stringlet('Tv',n)+'*'+p[0],Tv^n*p[1]]\n",
    "                VerticalColors[i].append(g)\n",
    "                n += 1\n",
    "        for m in neg:\n",
    "            n = -7-(-i-1)/2\n",
    "            while (n <= 5-(-i-1)/2):\n",
    "                g = [stringlet('Tv',n)+'*'+m[0],Tv^n*m[1]]\n",
    "                VerticalColors[-i].append(g)\n",
    "                n += 1\n",
    "  "
   ]
  },
  {
   "cell_type": "code",
   "execution_count": 10,
   "metadata": {
    "collapsed": false
   },
   "outputs": [
   ],
   "source": [
    "#Finally, multiply by all powers of R. ON THE RIGHT!\n",
    "\n",
    "RotatedVerticalColors = []\n",
    "for i in range(100):\n",
    "    RotatedVerticalColors.append([])\n",
    "\n",
    "for vc in VerticalColors:\n",
    "    i = VerticalColors.index(vc)\n",
    "    for g in vc:\n",
    "        RotatedVerticalColors[i].append(g)\n",
    "        j=1\n",
    "        while j <= 5:\n",
    "            RotatedVerticalColors[i].append([g[0]+'*'+stringlet('R',j),g[1]*R^j])\n",
    "            j += 1"
   ]
  },
  {
   "cell_type": "code",
   "execution_count": 11,
   "metadata": {
    "collapsed": false
   },
   "outputs": [
    {
     "data": {
      "text/plain": [
       "8166"
      ]
     },
     "execution_count": 11,
     "metadata": {
     },
     "output_type": "execute_result"
    }
   ],
   "source": [
    "#Now, put 'em all together.\n",
    "TooMany = []\n",
    "for rvc in RotatedVerticalColors:\n",
    "    for g in rvc:\n",
    "        TooMany.append(g)\n",
    "        \n",
    "len(TooMany)"
   ]
  },
  {
   "cell_type": "code",
   "execution_count": 12,
   "metadata": {
    "collapsed": false
   },
   "outputs": [
    {
     "data": {
      "text/plain": [
       "576"
      ]
     },
     "execution_count": 12,
     "metadata": {
     },
     "output_type": "execute_result"
    }
   ],
   "source": [
    "cycles = []\n",
    "for g in TooMany:\n",
    "    for P in points:\n",
    "        for Q in points:\n",
    "            gQ = g[1]*Q[1]\n",
    "            l = level(P[1],gQ)\n",
    "            if l <= 4:\n",
    "                aa = points.index(P)\n",
    "                c = points.index(Q)\n",
    "                gam1Pb = matrices[aa][1]^(-1)*g[1]*matrices[c][1]*Pinf\n",
    "                d = depth(gam1Pb)\n",
    "                if d <= 4:\n",
    "                    C = [ matrices[aa], matrices[c], g]\n",
    "                    cycles.append(C)\n",
    "\n",
    "len(cycles)"
   ]
  },
  {
   "cell_type": "code",
   "execution_count": 13,
   "metadata": {
    "collapsed": false
   },
   "outputs": [
   ],
   "source": [
    "#Spidercrawl around, outward from the identity, in a nice pattern, attempting to identify which gamma_infinity translate we have on our hands.  It will be super inefficient.\n",
    "\n",
    "def spidercrawl(C):\n",
    "    #C is an element of cycles, consisting of A_a, A_c, and gamma_3\n",
    "    #returns the pair A_b, gamma_1\n",
    "    \n",
    "    found = 0\n",
    "    gamm1Pb = C[0][1]^(-1)*C[2][1]*C[1][1]*Pinf\n",
    "    s = gamm1Pb[2][0]\n",
    "    if not(s == 0):\n",
    "        gamm1Pb = gamm1Pb*s^(-1)\n",
    "    else:\n",
    "        found = 1\n",
    "        return [['Id',Id],['Id',Id]]\n",
    "    d = depth(gamm1Pb)\n",
    "    levdpoints = []\n",
    "    levdmats = []\n",
    "    if d == 1:\n",
    "        levdpoints = [points[0]]\n",
    "        levdmats = [matrices[0]]\n",
    "    if d == 3:\n",
    "        levdpoints = [points[1],points[2]]\n",
    "        levdmats = [matrices[1],matrices[2]]\n",
    "    if d == 4:\n",
    "        levdpoints = [points[3]]\n",
    "        levdmats = [matrices[3]]\n",
    "    if len(levdpoints) == 0:\n",
    "        print 'A_c^-1*gamma_3^-1*A_a*Pinf has depth greater than 4'\n",
    "        return []\n",
    "    \n",
    "    for p in levdpoints:\n",
    "        if gamm1Pb == p[1]:\n",
    "            found = 1\n",
    "            return [ levdmats[levdpoints.index(p)], ['Id',Id]]\n",
    "\n",
    "    W = matrices_gamma_infinity\n",
    "    #wordlength = 1\n",
    "    while found == 0:\n",
    "        next = []\n",
    "        for w in W:\n",
    "            for p in levdpoints:\n",
    "                candidate = w[1]*p[1]\n",
    "                s = candidate[2][0]\n",
    "                if not(s == 1):\n",
    "                    candidate = candidate*s^(-1)\n",
    "                if candidate == gamm1Pb:\n",
    "                    found = 1\n",
    "                    return [levdmats[levdpoints.index(p)],w]\n",
    "            for m in matrices_gamma_infinity:\n",
    "                next.append([m[0]+'*'+w[0],m[1]*w[1] ])\n",
    "        #if wordlength == 7:\n",
    "         #   print 'words are getting long, do this one by hand.'\n",
    "          #  return []\n",
    "        W = next\n",
    "        #wordlength += 1"
   ]
  },
  {
   "cell_type": "code",
   "execution_count": 14,
   "metadata": {
    "collapsed": false
   },
   "outputs": [
   ],
   "source": [
    "def findRelation(C):\n",
    "    \n",
    "    B = spidercrawl(C)\n",
    "    #print cycles.index(C)\n",
    "    if B == []:\n",
    "        print 'cycles['+str(cycles.index(C))+']'\n",
    "        return\n",
    "    gamma = C[1][1]^-1*C[2][1]^-1*C[0][1]*B[1][1]*B[0][1]\n",
    "    found = 0\n",
    "    \n",
    "    if gamma == Id:\n",
    "        found = 1\n",
    "        return '('+C[1][0]+')^-1*('+C[2][0]+')^-1*('+C[0][0]+')*('+B[1][0]+')*('+B[0][0]+') == Id'\n",
    "    if gamma == t*Id:\n",
    "        found = 1\n",
    "        return '('+C[1][0]+')^-1*('+C[2][0]+')^-1*('+C[0][0]+')*('+B[1][0]+')*('+B[0][0]+') == tau*Id'\n",
    "    if gamma == t^2*Id:\n",
    "        found = 1\n",
    "        return '('+C[1][0]+')^-1*('+C[2][0]+')^-1*('+C[0][0]+')*('+B[1][0]+')*('+B[0][0]+') == tau^2*Id'\n",
    "    if gamma == -Id:\n",
    "        found = 1\n",
    "        return '('+C[1][0]+')^-1*('+C[2][0]+')^-1*('+C[0][0]+')*('+B[1][0]+')*('+B[0][0]+') == -Id'\n",
    "    if gamma == t*Id:\n",
    "        found = 1\n",
    "        return '('+C[1][0]+')^-1*('+C[2][0]+')^-1*('+C[0][0]+')*('+B[1][0]+')*('+B[0][0]+') == -tau*Id'\n",
    "    if gamma == t^2*Id:\n",
    "        found = 1\n",
    "        return '('+C[1][0]+')^-1*('+C[2][0]+')^-1*('+C[0][0]+')*('+B[1][0]+')*('+B[0][0]+') == -tau^2*Id'\n",
    "    \n",
    "    W = matrices_gamma_infinity\n",
    "    while found == 0:\n",
    "        next = []\n",
    "        for w in W:\n",
    "            if gamma == w[1]:\n",
    "                found = 1\n",
    "                return '('+C[1][0]+')^-1*('+C[2][0]+')^-1*('+C[0][0]+')*('+B[1][0]+')*('+B[0][0]+') == '+w[0]\n",
    "            if gamma == t*w[1]:\n",
    "                found = 1\n",
    "                return '('+C[1][0]+')^-1*('+C[2][0]+')^-1*('+C[0][0]+')*('+B[1][0]+')*('+B[0][0]+') == tau*'+w[0]\n",
    "            if gamma == t^2*w[1]:\n",
    "                found = 1\n",
    "                return '('+C[1][0]+')^-1*('+C[2][0]+')^-1*('+C[0][0]+')*('+B[1][0]+')*('+B[0][0]+') == tau^2*'+w[0]\n",
    "            if gamma == -w[1]:\n",
    "                found = 1\n",
    "                return '('+C[1][0]+')^-1*('+C[2][0]+')^-1*('+C[0][0]+')*('+B[1][0]+')*('+B[0][0]+') == -'+w[0]\n",
    "            if gamma == -t*w[1]:\n",
    "                found = 1\n",
    "                return '('+C[1][0]+')^-1*('+C[2][0]+')^-1*('+C[0][0]+')*('+B[1][0]+')*('+B[0][0]+') == -tau*'+w[0]\n",
    "            if gamma == -t^2*w[1]:\n",
    "                found = 1\n",
    "                return '('+C[1][0]+')^-1*('+C[2][0]+')^-1*('+C[0][0]+')*('+B[1][0]+')*('+B[0][0]+') == -tau^2*'+w[0]\n",
    "            for m in matrices_gamma_infinity:\n",
    "                next.append([m[0]+'*'+w[0],m[1]*w[1] ])\n",
    "        W = next"
   ]
  },
  {
   "cell_type": "code",
   "execution_count": 15,
   "metadata": {
    "collapsed": false
   },
   "outputs": [
    {
     "name": "stdout",
     "output_type": "stream",
     "text": [
      "(I0)^-1*(Tv^-1*Id*Id)^-1*(I0)*(Id)*(A31) == -T1^-1*R*R*Ttau^-1*R\n",
      "(A31)^-1*(Tv^-1*Id*Id)^-1*(I0)*(Id)*(A4) == -R*R*R\n"
     ]
    },
    {
     "name": "stdout",
     "output_type": "stream",
     "text": [
      "(A32)^-1*(Tv^-1*Id*Id)^-1*(I0)*(Ttau^-1*T1^-1*Ttau*T1)*(I0) == Id\n",
      "(A4)^-1*(Tv^-1*Id*Id)^-1*(I0)*(Id)*(A32) == Id\n"
     ]
    },
    {
     "name": "stdout",
     "output_type": "stream",
     "text": [
      "(I0)^-1*(Tv^-1*Id*Id*R)^-1*(I0)*(Id)*(A31) == -T1^-1*R*R*Ttau^-1\n",
      "(A31)^-1*(Tv^-1*Id*Id*R)^-1*(I0)*(Id)*(A4) == -R*R\n"
     ]
    },
    {
     "name": "stdout",
     "output_type": "stream",
     "text": [
      "(A32)^-1*(Tv^-1*Id*Id*R)^-1*(I0)*(Ttau^-1*T1^-1*Ttau*T1)*(I0) == R*R*R*R*R\n",
      "(A4)^-1*(Tv^-1*Id*Id*R)^-1*(I0)*(Id)*(A32) == R*R*R*R*R\n"
     ]
    },
    {
     "name": "stdout",
     "output_type": "stream",
     "text": [
      "(I0)^-1*(Tv^-1*Id*Id*R^2)^-1*(I0)*(Id)*(A31) == -T1^-1*R*Ttau^-1*T1\n",
      "(A31)^-1*(Tv^-1*Id*Id*R^2)^-1*(I0)*(Id)*(A4) == -R\n",
      "(A32)^-1*(Tv^-1*Id*Id*R^2)^-1*(I0)*(Ttau^-1*T1^-1*Ttau*T1)*(I0) == R*R*R*R\n",
      "(A4)^-1*(Tv^-1*Id*Id*R^2)^-1*(I0)*(Id)*(A32) == R*R*R*R\n",
      "(I0)^-1*(Tv^-1*Id*Id*R^3)^-1*(I0)*(Id)*(A31) == -Ttau*T1^-1*Ttau^-1*T1"
     ]
    },
    {
     "name": "stdout",
     "output_type": "stream",
     "text": [
      "\n",
      "(A31)^-1*(Tv^-1*Id*Id*R^3)^-1*(I0)*(Id)*(A4) == -Id\n"
     ]
    },
    {
     "name": "stdout",
     "output_type": "stream",
     "text": [
      "(A32)^-1*(Tv^-1*Id*Id*R^3)^-1*(I0)*(Ttau^-1*T1^-1*Ttau*T1)*(I0) == R*R*R\n",
      "(A4)^-1*(Tv^-1*Id*Id*R^3)^-1*(I0)*(Id)*(A32) == R*R*R\n"
     ]
    },
    {
     "name": "stdout",
     "output_type": "stream",
     "text": [
      "(I0)^-1*(Tv^-1*Id*Id*R^4)^-1*(I0)*(Id)*(A31) == -T1^-1*R*R*Ttau^-1*R*R*R\n"
     ]
    },
    {
     "name": "stdout",
     "output_type": "stream",
     "text": [
      "(A31)^-1*(Tv^-1*Id*Id*R^4)^-1*(I0)*(Id)*(A4) == -R*R*R*R*R\n",
      "(A32)^-1*(Tv^-1*Id*Id*R^4)^-1*(I0)*(Ttau^-1*T1^-1*Ttau*T1)*(I0) == R*R\n",
      "(A4)^-1*(Tv^-1*Id*Id*R^4)^-1*(I0)*(Id)*(A32) == R*R\n"
     ]
    },
    {
     "name": "stdout",
     "output_type": "stream",
     "text": [
      "(I0)^-1*(Tv^-1*Id*Id*R^5)^-1*(I0)*(Id)*(A31) == -T1^-1*R*R*Ttau^-1*R*R\n",
      "(A31)^-1*(Tv^-1*Id*Id*R^5)^-1*(I0)*(Id)*(A4) == -R*R*R*R\n"
     ]
    },
    {
     "name": "stdout",
     "output_type": "stream",
     "text": [
      "(A32)^-1*(Tv^-1*Id*Id*R^5)^-1*(I0)*(Ttau^-1*T1^-1*Ttau*T1)*(I0) == R\n",
      "(A4)^-1*(Tv^-1*Id*Id*R^5)^-1*(I0)*(Id)*(A32) == R\n",
      "(I0)^-1*(Id*Id*Id)^-1*(I0)*(Id)*(Id) == Id\n"
     ]
    },
    {
     "name": "stdout",
     "output_type": "stream",
     "text": [
      "(A31)^-1*(Id*Id*Id)^-1*(I0)*(T1^-1*R*Ttau^-1*T1)*(I0) == -T1*R*R*Ttau*R*R\n",
      "(A32)^-1*(Id*Id*Id)^-1*(I0)*(T1^-1*R*Ttau^-1*T1)*(A4) == R\n"
     ]
    },
    {
     "name": "stdout",
     "output_type": "stream",
     "text": [
      "(A4)^-1*(Id*Id*Id)^-1*(I0)*(T1^-1*R*Ttau^-1*T1)*(A31) == -R*R*R*R\n"
     ]
    },
    {
     "name": "stdout",
     "output_type": "stream",
     "text": [
      "(I0)^-1*(Id*Id*Id)^-1*(A31)*(Ttau^-1*T1^-1*Ttau*T1)*(I0) == -T1^-1*R*R*Ttau^-1*R\n",
      "(A31)^-1*(Id*Id*Id)^-1*(A31)*(Id)*(Id) == Id\n",
      "(A32)^-1*(Id*Id*Id)^-1*(A31)*(Id)*(A31) == Id\n"
     ]
    },
    {
     "name": "stdout",
     "output_type": "stream",
     "text": [
      "(A4)^-1*(Id*Id*Id)^-1*(A31)*(Id)*(I0) == -T1*R*R*Ttau*R\n",
      "(I0)^-1*(Id*Id*Id)^-1*(A32)*(Id)*(A4) == Ttau*T1^-1*Ttau^-1*T1\n",
      "(A31)^-1*(Id*Id*Id)^-1*(A32)*(Id)*(A32) == -R*R*R\n",
      "(A32)^-1*(Id*Id*Id)^-1*(A32)*(Id)*(Id) == Id\n"
     ]
    },
    {
     "name": "stdout",
     "output_type": "stream",
     "text": [
      "(A4)^-1*(Id*Id*Id)^-1*(A32)*(Ttau^-1*T1^-1*Ttau*T1)*(I0) == Id\n",
      "(I0)^-1*(Id*Id*Id)^-1*(A4)*(Id)*(A32) == Ttau*T1^-1*Ttau^-1*T1\n"
     ]
    },
    {
     "name": "stdout",
     "output_type": "stream",
     "text": [
      "(A31)^-1*(Id*Id*Id)^-1*(A4)*(Ttau^-1*T1^-1*Ttau*T1)*(I0) == -R*R*R\n",
      "(A32)^-1*(Id*Id*Id)^-1*(A4)*(Id)*(I0) == Ttau^-1*T1^-1*Ttau*T1\n",
      "(A4)^-1*(Id*Id*Id)^-1*(A4)*(Id)*(Id) == Id\n"
     ]
    },
    {
     "name": "stdout",
     "output_type": "stream",
     "text": [
      "(I0)^-1*(Id*Id*Id*R)^-1*(I0)*(Id)*(Id) == R*R*R*R*R\n"
     ]
    },
    {
     "name": "stdout",
     "output_type": "stream",
     "text": [
      "(A31)^-1*(Id*Id*Id*R)^-1*(I0)*(T1^-1*R*Ttau^-1*T1)*(I0) == -T1*R*R*Ttau*R\n",
      "(A32)^-1*(Id*Id*Id*R)^-1*(I0)*(T1^-1*R*Ttau^-1*T1)*(A4) == Id\n"
     ]
    },
    {
     "name": "stdout",
     "output_type": "stream",
     "text": [
      "(A4)^-1*(Id*Id*Id*R)^-1*(I0)*(T1^-1*R*Ttau^-1*T1)*(A31) == -R*R*R\n"
     ]
    },
    {
     "name": "stdout",
     "output_type": "stream",
     "text": [
      "(I0)^-1*(Id*Id*Id*R)^-1*(A31)*(Ttau^-1*T1^-1*Ttau*T1)*(I0) == -T1^-1*R*R*Ttau^-1\n",
      "(A31)^-1*(Id*Id*Id*R)^-1*(A31)*(Id)*(Id) == R*R*R*R*R\n"
     ]
    },
    {
     "name": "stdout",
     "output_type": "stream",
     "text": [
      "(A32)^-1*(Id*Id*Id*R)^-1*(A31)*(Id)*(A31) == R*R*R*R*R\n"
     ]
    },
    {
     "name": "stdout",
     "output_type": "stream",
     "text": [
      "(A4)^-1*(Id*Id*Id*R)^-1*(A31)*(Id)*(I0) == -T1*R*R*Ttau\n"
     ]
    }
   ],
   "source": [
    "for C in cycles:\n",
    "    print(findRelation(C))"
   ]
  },
  {
   "cell_type": "code",
   "execution_count": 0,
   "metadata": {
    "collapsed": false
   },
   "outputs": [
   ],
   "source": [
   ]
  }
 ],
 "metadata": {
  "kernelspec": {
   "display_name": "SageMath (stable)",
   "language": "sagemath",
   "metadata": {
    "cocalc": {
     "description": "Open-source mathematical software system",
     "priority": 10,
     "url": "https://www.sagemath.org/"
    }
   },
   "name": "sagemath"
  },
  "language_info": {
   "codemirror_mode": {
    "name": "ipython",
    "version": 2
   },
   "file_extension": ".py",
   "mimetype": "text/x-python",
   "name": "python",
   "nbconvert_exporter": "python",
   "pygments_lexer": "ipython2",
   "version": "2.7.15"
  }
 },
 "nbformat": 4,
 "nbformat_minor": 0
}