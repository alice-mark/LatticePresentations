{
 "cells": [
  {
   "cell_type": "code",
   "execution_count": 1,
   "metadata": {
    "collapsed": false
   },
   "outputs": [
   ],
   "source": [
    "#Make the ring Q(i*sqrt(7))\n",
    "\n",
    "K = QuadraticField(-7,'a')\n",
    "B = K.integral_basis()\n",
    "\n",
    "#Here are some useful numbers.  a=i*sqrt(7).\n",
    "a = B[1]\n",
    "tau = (1+a)/2\n",
    "\n",
    "#################################################\n",
    "#Here are all the points and matrices:\n",
    "Id = matrix([[1,0,0],[0,1,0],[0,0,1]])\n",
    "\n",
    "Pinf = matrix([[1],[0],[0]])\n",
    "\n",
    "P0 = matrix([[0],[0],[1]])\n",
    "I0 = matrix([[0,0,1],[0,-1,0],[1,0,0]])\n",
    "\n",
    "P21 = matrix([[-1/4+3*a/4],[tau/2],[1]])\n",
    "A21 = matrix([[-1/2*a-5/2,-5,5],[-1,-1,0],[1/2*a-1/2,a,-a]])\n",
    "\n",
    "P22 = matrix([[tau-1],[(tau+1)/2],[1]])\n",
    "#SEE BELOW A42\n",
    "\n",
    "P41 = matrix([[a/2],[0],[1]])\n",
    "A41 = matrix([[a,0,4],[0,1,0],[2,0,-a]])\n",
    "\n",
    "P42 = matrix([[(tau-1)/2],[tau/2],[1]])\n",
    "A42 = matrix([[tau-1,tau,2],[tau,2,1-tau],[2,1-tau,-tau]])\n",
    "\n",
    "A22 = A42^(-1)*I0\n",
    "\n",
    "P43 = matrix([[-1/2],[(tau+1)/2],[1]])\n",
    "A43 = matrix([[-1,tau-2,2],[tau+1,3,-tau-1],[2,2-tau,-1]])\n",
    "\n",
    "P44 = matrix([[(5*tau-3)/4],[(tau+1)/4],[1]])\n",
    "#SEE BELOW Gamma_infty\n",
    "\n",
    "P45 = matrix([[(3*tau-2)/2],[(tau+2)/4],[1]])\n",
    "#SEE BELOW Gamma_infty\n",
    "\n",
    "P71 = matrix([[-1/a],[0],[1]])\n",
    "A71 = matrix([[-1,0,0],[0,1,0],[a,0,-1]])\n",
    "\n",
    "P72 = matrix([[-2/a],[0],[1]])\n",
    "A72 = matrix([[-2,0,a],[0,1,0],[a,0,3]])\n",
    "\n",
    "P73 = matrix([[-3/a],[0],[1]])\n",
    "A73 = matrix([[-3,0,a],[0,1,0],[a,0,2]])\n",
    "\n",
    "P74 = matrix([[-4/a],[0],[1]])\n",
    "A74 = matrix([[-4,0,-a],[0,1,0],[a,0,-2]])\n",
    "\n",
    "P75 = matrix([[-5/a],[0],[1]])\n",
    "A75 = matrix([[-5,0,3*a],[0,1,0],[a,0,4]])\n",
    "\n",
    "P76 = matrix([[-6/a],[0],[1]])\n",
    "A76 = matrix([[-6,0,a],[0,1,0],[a,0,1]])\n",
    "\n",
    "#Gamma_infty\n",
    "Tv = matrix([[1,0,a],[0,1,0],[0,0,1]])\n",
    "T1 = matrix([[1,-1,(-1+a)/2],[0,1,1],[0,0,1]])\n",
    "Ttau = matrix([[1,-(1-a)/2,-1],[0,1,(1+a)/2],[0,0,1]])\n",
    "R = matrix([[1,0,0],[0,-1,0],[0,0,1]])\n",
    "matrices_gamma_infinity = [['R',R],['T1',T1],['T1^-1',T1^-1],['Ttau',Ttau],['Ttau^-1',Ttau^-1],['Tv',Tv],['Tv^-1',Tv^-1]]\n",
    "\n",
    "A44 = A75^(-1)*T1^(-1)*Tv*I0\n",
    "A45 = A75^(-1)*A41^(-1)*A42\n",
    "\n",
    "\n",
    "# Each matrix is stored as a 2-tuple [name, matrix]\n",
    "matrices = [['I0',I0],['A21',A21],['A22',A22],['A41',A41],['A42',A42],['A43',A43],['A44',A44],['A45',A45],['A71',A71],['A72',A72],['A73',A73],['A74',A74],['A75',A75],['A76',A76]]\n",
    "\n",
    "#each point is stored as a 4-tuple [name, vector, depth, denominator-clearer]\n",
    "points = [['P0',P0,1,1],['P21',P21,2,tau-1],['P22',P22,2,tau],['P41',P41,4,2],['P42',P42,4,2],['P43',P43,4,2],['P44',P44,4,tau-2],['P45',P45,4,tau+1],['P71',P71,7,a],['P72',P72,7,a],['P73',P73,7,a],['P74',P74,7,a],['P75',P75,7,a],['P76',P76,7,a]]"
   ]
  },
  {
   "cell_type": "code",
   "execution_count": 2,
   "metadata": {
    "collapsed": false
   },
   "outputs": [
   ],
   "source": [
    "# these are the scalars who clear the denominators of the prism points of each of their respective depths.  Technically d1 should contain 1, not empty, but that would be silly and would just mean we mutiply by 1 a lot.\n",
    "d1 = []\n",
    "d2 = [tau, tau-1]\n",
    "d4 = [2,tau+1,tau-2]\n",
    "d7 = [a]\n",
    "depths = [d2,d4,d7]"
   ]
  },
  {
   "cell_type": "code",
   "execution_count": 3,
   "metadata": {
    "collapsed": false
   },
   "outputs": [
   ],
   "source": [
    "#Compute the inner product of two vectors\n",
    "def ip(v1,v2):\n",
    "    return v2[2].conjugate()*v1[0] + v2[1].conjugate()*v1[1] + v2[0].conjugate()*v1[2]\n",
    "\n",
    "#Test if a (rational) number (not a vector) is in the ring of integers.\n",
    "def IsIntegral(n):\n",
    "    if (K.coerce(n)[0] in ZZ) & (K.coerce(n)[1] in ZZ):\n",
    "        return True\n",
    "    else:\n",
    "        if (K.coerce(n)[0]+1/2 in ZZ) & (K.coerce(n)[1]+1/2 in ZZ):\n",
    "            return True\n",
    "        else:\n",
    "            return False\n",
    "\n",
    "#Given a vector v, find its primitive integral lift.  Only works on points of depth up to 7 because what it does is multiply by all possible scalars that could clear the denominator and then checks if the coordinates are integral.\n",
    "def PrimIntLift(v):\n",
    "    if IsIntegral(v[0][0]) & IsIntegral(v[1][0]) & IsIntegral(v[2][0]):\n",
    "        return v\n",
    "    for d in depths:\n",
    "        for q in d:\n",
    "            w = v*q\n",
    "            if IsIntegral(w[0][0]) & IsIntegral(w[1][0]) & IsIntegral(w[2][0]):\n",
    "                return w\n",
    "    print(\"depth greater than 7\")\n",
    "    return False\n",
    "   \n",
    "#Find the level between two points.  Only works on points of depth up to 7.\n",
    "def level(v1,v2):\n",
    "    return K.coerce(ip(PrimIntLift(v1),PrimIntLift(v2))).norm()\n",
    "\n",
    "#Find the depth of a point.  Only works on points of depth up to 7.\n",
    "def depth(v):\n",
    "    return K.coerce(PrimIntLift(v)[2][0]).norm()\n"
   ]
  },
  {
   "cell_type": "code",
   "execution_count": 4,
   "metadata": {
    "collapsed": false
   },
   "outputs": [
    {
     "name": "stdout",
     "output_type": "stream",
     "text": [
      "2*(9/7)^(1/4)\n",
      "2.12968863361\n",
      "P76\n"
     ]
    }
   ],
   "source": [
    "#How far away is the furthest point from the origin in the prism?\n",
    "def vectCygan(v1,v2):\n",
    "    nv1 = v1*v1[2][0]^(-1)\n",
    "    nv2 = v2*v2[2][0]^(-1)\n",
    "    prod = 2*ip(nv1,nv2)\n",
    "    return (prod.norm())^(1/4)\n",
    "\n",
    "max = [0,'P0']\n",
    "for p in points:\n",
    "    d = vectCygan(P0,p[1])\n",
    "    if d > max[0]:\n",
    "        max = [d,p[0]]\n",
    "print(max[0])\n",
    "print(float(max[0]))\n",
    "print(max[1])"
   ]
  },
  {
   "cell_type": "code",
   "execution_count": 5,
   "metadata": {
    "collapsed": false
   },
   "outputs": [
    {
     "name": "stdout",
     "output_type": "stream",
     "text": [
      "2*sqrt(2) + 2*(9/7)^(1/4)\n",
      "4.95811575835\n"
     ]
    }
   ],
   "source": [
    "#so, the radius within which the center must lie in order for there to be a hope of an intersection is \n",
    "print(2*sqrt(2)+2*(9/7)^(1/4))\n",
    "print(float(2*sqrt(2)+2*(9/7)^(1/4)))\n",
    "\n",
    "#Thus, we draw a Cygan sphere of radius 5 centered at the origin, and more than cover it with prism translates, just to be safe."
   ]
  },
  {
   "cell_type": "code",
   "execution_count": 6,
   "metadata": {
    "collapsed": false
   },
   "outputs": [
    {
     "data": {
      "image/png": "[encoded data removed]"
     },
     "execution_count": 6,
     "metadata": {
     },
     "output_type": "execute_result"
    }
   ],
   "source": [
    "#some helpful pictures to figure out the covering\n",
    "var('x')\n",
    "Q = plot(sqrt(25-x^2),(x,-5,5),xmin=-5.5,xmax=5.5,ymin=-5.5,ymax=5.5,aspect_ratio=1,axes=True)\n",
    "Q += plot(-sqrt(25-x^2),(x,-5,5))\n",
    "n = -7\n",
    "while n < 7:\n",
    "    Q += plot(sqrt(7)*x+n*sqrt(7),(x,-5.5,5.5),color='purple')\n",
    "    Q += plot(-sqrt(7)*x+n*sqrt(7),(x,-5.5,5.5),color='purple')\n",
    "    n += 1\n",
    "\n",
    "n = -6\n",
    "while n < 7:\n",
    "    Q += plot(n*sqrt(7)/2,(x,-5.5,5.5),color='purple')\n",
    "    n += 1\n",
    "\n",
    "Q"
   ]
  },
  {
   "cell_type": "code",
   "execution_count": 7,
   "metadata": {
    "collapsed": false
   },
   "outputs": [
    {
     "data": {
      "image/png": "[encoded data removed]"
     },
     "execution_count": 7,
     "metadata": {
     },
     "output_type": "execute_result"
    }
   ],
   "source": [
    "S = plot(sqrt(5^4-x^4),(x,-5,5),xmin=-5.5,xmax=5.5,ymin=-26,ymax=26,aspect_ratio=.3,axes=False)\n",
    "S += plot(-sqrt(5^4-x^4),(x,-5,5))\n",
    "\n",
    "\n",
    "n = -5\n",
    "while n < 6:\n",
    "    S += plot(2*n*sqrt(7),(x,-4,-3),color='purple')\n",
    "    S += plot(2*n*sqrt(7),(x,-2,-1),color='purple')\n",
    "    S += plot(2*n*sqrt(7),(x,0,1),color='purple')\n",
    "    S += plot(2*n*sqrt(7),(x,2,3),color='purple')\n",
    "    S += plot(2*n*sqrt(7),(x,4,5),color='purple')\n",
    "    S += plot((2*n+1)*sqrt(7),(x,-5,-4),color='purple')\n",
    "    S += plot((2*n+1)*sqrt(7),(x,-3,-2),color='purple')\n",
    "    S += plot((2*n+1)*sqrt(7),(x,-1,0),color='purple')\n",
    "    S += plot((2*n+1)*sqrt(7),(x,1,2),color='purple')\n",
    "    S += plot((2*n+1)*sqrt(7),(x,3,4),color='purple')\n",
    "    S += line([(n,-27), (n,27)],color='purple')\n",
    "    n += 1\n",
    "\n",
    "\n",
    "S"
   ]
  },
  {
   "cell_type": "code",
   "execution_count": 8,
   "metadata": {
    "collapsed": false
   },
   "outputs": [
   ],
   "source": [
    "# Here is a list of group elements, built by hand, whose translates cover the ball of radius 5 centered at the origin. (continues into the next cell.)\n",
    "\n",
    "Blue0 = [['Id',Id],['Ttau',Ttau],['Ttau^2',Ttau^2],['Ttau^3',Ttau^3],\n",
    "['Ttau^-1',Ttau^-1],['Ttau^-2',Ttau^-2],['Ttau^-3',Ttau^-3],['Ttau^-4',Ttau^-4],\n",
    "['R',R],['Ttau*R',Ttau*R],['Ttau^2*R',Ttau^2*R],['Ttau^3*R',Ttau^3*R],['Ttau^4*R',Ttau^4*R],\n",
    "['Ttau^-1*R',Ttau^-1*R],['Ttau^-2*R',Ttau^-2*R],['Ttau^-3*R',Ttau^-3*R]]\n",
    "\n",
    "Red1 = [['T1',T1],['T1*Ttau',T1*Ttau],['T1*Ttau^2',T1*Ttau^2],['T1*Ttau^3',T1*Ttau^3],\n",
    "['T1*Ttau^-1',T1*Ttau^-1],['T1*Ttau^-2',T1*Ttau^-2],['T1*Ttau^-3',T1*Ttau^-3],['T1*Ttau^-4',T1*Ttau^-4],\n",
    "['T1*R',T1*R],['T1*Ttau*R',T1*Ttau*R],['T1*Ttau^2*R',T1*Ttau^2*R],['T1*Ttau^3*R',T1*Ttau^3*R],['T1*Ttau^4*R',T1*Ttau^4*R],\n",
    "['T1*Ttau^-1*R',T1*Ttau^-1*R],['T1*Ttau^-2*R',T1*Ttau^-2*R],['T1*Ttau^-3*R',T1*Ttau^-3*R]]\n",
    "\n",
    "Green2 = [['T1^2',T1^2],['T1^2*Ttau',T1^2*Ttau],['T1^2*Ttau^2',T1^2*Ttau^2],\n",
    "['T1^2*Ttau^-1',T1^2*Ttau^-1],['T1^2*Ttau^-2',T1^2*Ttau^-2],['T1^2*Ttau^-3',T1^2*Ttau^-3],['T1^2*Ttau^-4',T1^2*Ttau^-4],\n",
    "['T1^2*R',T1^2*R],['T1^2*Ttau*R',T1^2*Ttau*R],['T1^2*Ttau^2*R',T1^2*Ttau^2*R],['T1^2*Ttau^3*R',T1^2*Ttau^3*R],\n",
    "['T1^2*Ttau^-1*R',T1^2*Ttau^-1*R],['T1^2*Ttau^-2*R',T1^2*Ttau^-2*R],['T1^2*Ttau^-3*R',T1^2*Ttau^-3*R]]\n",
    "\n",
    "Pink3 = [['T1^3',T1^3],['T1^3*Ttau',T1^3*Ttau],['T1^3*Ttau^2',T1^3*Ttau^2],\n",
    "['T1^3*Ttau^-1',T1^3*Ttau^-1],['T1^3*Ttau^-2',T1^3*Ttau^-2],['T1^3*Ttau^-3',T1^3*Ttau^-3],['T1^3*Ttau^-4',T1^3*Ttau^-4],\n",
    "['T1^3*R',T1^3*R],['T1^3*Ttau*R',T1^3*Ttau*R],['T1^3*Ttau^2*R',T1^3*Ttau^2*R],['T1^3*Ttau^3*R',T1^3*Ttau^3*R],\n",
    "['T1^3*Ttau^-1*R',T1^3*Ttau^-1*R],['T1^3*Ttau^-2*R',T1^3*Ttau^-2*R],['T1^3*Ttau^-3*R',T1^3*Ttau^-3*R]]\n",
    "\n",
    "Orange4 = [['T1^4',T1^4],['T1^4*Ttau',T1^4*Ttau],\n",
    "['T1^4*Ttau^-1',T1^4*Ttau^-1],['T1^4*Ttau^-2',T1^4*Ttau^-2],['T1^4*Ttau^-3',T1^4*Ttau^-3],['T1^4*Ttau^-4',T1^4*Ttau^-4],\n",
    "['T1^4*R',T1^4*R],['T1^4*Ttau*R',T1^4*Ttau*R],['T1^4*Ttau^2*R',T1^4*Ttau^2*R],\n",
    "['T1^4*Ttau^-1*R',T1^4*Ttau^-1*R],['T1^4*Ttau^-2*R',T1^4*Ttau^-2*R],['T1^4*Ttau^-3*R',T1^4*Ttau^-3*R]]\n",
    "\n",
    "Blue5 = [['T1^5',T1^5],\n",
    "['T1^5*Ttau^-1',T1^5*Ttau^-1],['T1^5*Ttau^-2',T1^5*Ttau^-2],['T1^5*Ttau^-3',T1^5*Ttau^-3],\n",
    "['T1^5*R',T1^5*R],['T1^5*Ttau*R',T1^5*Ttau*R],\n",
    "['T1^5*Ttau^-1*R',T1^5*Ttau^-1*R],['T1^5*Ttau^-2*R',T1^5*Ttau^-2*R],['T1^5*Ttau^-3*R',T1^5*Ttau^-3*R]]\n",
    "\n",
    "Red6 = [['T1^6*R',T1^6*R],\n",
    "['T1^6*Ttau^-1*R',T1^6*Ttau^-1*R],['T1^6*Ttau^-2*R',T1^6*Ttau^-2*R]]\n",
    "\n",
    "Orangem1 = [['T1^-1',T1^-1],['T1^-1*Ttau',T1^-1*Ttau],['T1^-1*Ttau^2',T1^-1*Ttau^2],['T1^-1*Ttau^3',T1^-1*Ttau^3],\n",
    "['T1^-1*Ttau^-1',T1^-1*Ttau^-1],['T1^-1*Ttau^-2',T1^-1*Ttau^-2],['T1^-1*Ttau^-3',T1^-1*Ttau^-3],['T1^-1*Ttau^-4',T1^-1*Ttau^-4],\n",
    "['T1^-1*R',T1^-1*R],['T1^-1*Ttau*R',T1^-1*Ttau*R],['T1^-1*Ttau^2*R',T1^-1*Ttau^2*R],['T1^-1*Ttau^3*R',T1^-1*Ttau^3*R],['T1^-1*Ttau^4*R',T1^-1*Ttau^4*R],\n",
    "['T1^-1*Ttau^-1*R',T1^-1*Ttau^-1*R],['T1^-1*Ttau^-2*R',T1^-1*Ttau^-2*R],['T1^-1*Ttau^-3*R',T1^-1*Ttau^-3*R]]\n",
    "\n",
    "Pinkm2 = [['T1^-2',T1^-2],['T1^-2*Ttau',T1^-2*Ttau],['T1^-2*Ttau^2',T1^-2*Ttau^2],['T1^-2*Ttau^3',T1^-2*Ttau^3],\n",
    "['T1^-2*Ttau^-1',T1^-2*Ttau^-1],['T1^-2*Ttau^-2',T1^-2*Ttau^-2],['T1^-2*Ttau^-3',T1^-2*Ttau^-3],\n",
    "['T1^-2*R',T1^-2*R],['T1^-2*Ttau*R',T1^-2*Ttau*R],['T1^-2*Ttau^2*R',T1^-2*Ttau^2*R],['T1^-2*Ttau^3*R',T1^-2*Ttau^3*R],['T1^-2*Ttau^4*R',T1^-2*Ttau^4*R],\n",
    "['T1^-2*Ttau^-1*R',T1^-2*Ttau^-1*R],['T1^-2*Ttau^-2*R',T1^-2*Ttau^-2*R]]\n",
    "\n",
    "Greenm3 = [['T1^-3',T1^-3],['T1^-3*Ttau',T1^-3*Ttau],['T1^-3*Ttau^2',T1^-3*Ttau^2],['T1^-3*Ttau^3',T1^-3*Ttau^3],\n",
    "['T1^-3*Ttau^-1',T1^-3*Ttau^-1],['T1^-3*Ttau^-2',T1^-3*Ttau^-2],['T1^-3*Ttau^-3',T1^-3*Ttau^-3],\n",
    "['T1^-3*R',T1^-3*R],['T1^-3*Ttau*R',T1^-3*Ttau*R],['T1^-3*Ttau^2*R',T1^-3*Ttau^2*R],['T1^-3*Ttau^3*R',T1^-3*Ttau^3*R],['T1^-3*Ttau^4*R',T1^-3*Ttau^4*R],\n",
    "['T1^-3*Ttau^-1*R',T1^-3*Ttau^-1*R],['T1^-3*Ttau^-2*R',T1^-3*Ttau^-2*R]]\n",
    "\n",
    "Redm4 = [['T1^-4',T1^-4],['T1^-4*Ttau',T1^-4*Ttau],['T1^-4*Ttau^2',T1^-4*Ttau^2],['T1^-4*Ttau^3',T1^-4*Ttau^3],\n",
    "['T1^-4*Ttau^-1',T1^-4*Ttau^-1],['T1^-4*Ttau^-2',T1^-4*Ttau^-2],\n",
    "['T1^-4*R',T1^-4*R],['T1^-4*Ttau*R',T1^-4*Ttau*R],['T1^-4*Ttau^2*R',T1^-4*Ttau^2*R],['T1^-4*Ttau^3*R',T1^-4*Ttau^3*R],['T1^-4*Ttau^4*R',T1^-4*Ttau^4*R],\n",
    "['T1^-4*Ttau^-1*R',T1^-4*Ttau^-1*R]]\n",
    "\n",
    "Bluem5 = [['T1^-5',T1^-5],['T1^-5*Ttau',T1^-5*Ttau],['T1^-5*Ttau^2',T1^-5*Ttau^2],['T1^-5*Ttau^3',T1^-5*Ttau^3],\n",
    "['T1^-5*Ttau^-1',T1^-5*Ttau^-1],\n",
    "['T1^-5*R',T1^-5*R],['T1^-5*Ttau*R',T1^-5*Ttau*R],['T1^-5*Ttau^2*R',T1^-5*Ttau^2*R],['T1^-5*Ttau^3*R',T1^-5*Ttau^3*R]]\n",
    "\n",
    "Orangem6 = [['T1^-6',T1^-6],['T1^-6*Ttau',T1^-6*Ttau],['T1^-6*Ttau^2',T1^-6*Ttau^2]]"
   ]
  },
  {
   "cell_type": "code",
   "execution_count": 9,
   "metadata": {
    "collapsed": false
   },
   "outputs": [
   ],
   "source": [
    "TooMany = []\n",
    "\n",
    "for g in Blue0:\n",
    "    TooMany.append(g)\n",
    "n=1\n",
    "while n <=4:\n",
    "    for g in Blue0:\n",
    "        if n == 1:\n",
    "            P = ['Tv'+'*'+g[0],Tv^n*g[1]]\n",
    "            TooMany.append(P)\n",
    "        else:\n",
    "            P = ['Tv^'+str(n)+'*'+g[0],Tv^n*g[1]]\n",
    "            TooMany.append(P)\n",
    "    n += 1\n",
    "n=-1\n",
    "while n >=-5:\n",
    "    for g in Blue0:\n",
    "        P = ['Tv^'+str(n)+'*'+g[0],Tv^n*g[1]]\n",
    "        TooMany.append(P)\n",
    "    n -= 1\n",
    "\n",
    "\n",
    "for g in Red1:\n",
    "    TooMany.append(g)\n",
    "n=1\n",
    "while n <=4:\n",
    "    for g in Red1:\n",
    "        if n == 1:\n",
    "            P = ['Tv'+'*'+g[0],Tv^n*g[1]]\n",
    "            TooMany.append(P)\n",
    "        else:\n",
    "            P = ['Tv^'+str(n)+'*'+g[0],Tv^n*g[1]]\n",
    "            TooMany.append(P)\n",
    "    n += 1\n",
    "n=-1\n",
    "while n >=-6:\n",
    "    for g in Red1:\n",
    "        P = ['Tv^'+str(n)+'*'+g[0],Tv^n*g[1]]\n",
    "        TooMany.append(P)\n",
    "    n -= 1\n",
    "\n",
    "\n",
    "for g in Green2:\n",
    "    TooMany.append(g)\n",
    "n=1\n",
    "while n <=3:\n",
    "    for g in Green2:\n",
    "        if n == 1:\n",
    "            P = ['Tv'+'*'+g[0],Tv^n*g[1]]\n",
    "            TooMany.append(P)\n",
    "        else:\n",
    "            P = ['Tv^'+str(n)+'*'+g[0],Tv^n*g[1]]\n",
    "            TooMany.append(P)\n",
    "    n += 1\n",
    "n=-1\n",
    "while n >=-6:\n",
    "    for g in Green2:\n",
    "        P = ['Tv^'+str(n)+'*'+g[0],Tv^n*g[1]]\n",
    "        TooMany.append(P)\n",
    "    n -= 1\n",
    "\n",
    "\n",
    "for g in Pink3:\n",
    "    TooMany.append(g)\n",
    "n=1\n",
    "while n <=3:\n",
    "    for g in Pink3:\n",
    "        if n == 1:\n",
    "            P = ['Tv'+'*'+g[0],Tv^n*g[1]]\n",
    "            TooMany.append(P)\n",
    "        else:\n",
    "            P = ['Tv^'+str(n)+'*'+g[0],Tv^n*g[1]]\n",
    "            TooMany.append(P)\n",
    "    n += 1\n",
    "n=-1\n",
    "while n >=-7:\n",
    "    for g in Pink3:\n",
    "        P = ['Tv^'+str(n)+'*'+g[0],Tv^n*g[1]]\n",
    "        TooMany.append(P)\n",
    "    n -= 1\n",
    "\n",
    "\n",
    "for g in Orange4:\n",
    "    TooMany.append(g)\n",
    "n=1\n",
    "while n <=2:\n",
    "    for g in Orange4:\n",
    "        if n == 1:\n",
    "            P = ['Tv'+'*'+g[0],Tv^n*g[1]]\n",
    "            TooMany.append(P)\n",
    "        else:\n",
    "            P = ['Tv^'+str(n)+'*'+g[0],Tv^n*g[1]]\n",
    "            TooMany.append(P)\n",
    "    n += 1\n",
    "n=-1\n",
    "while n >=-7:\n",
    "    for g in Orange4:\n",
    "        P = ['Tv^'+str(n)+'*'+g[0],Tv^n*g[1]]\n",
    "        TooMany.append(P)\n",
    "    n -= 1\n",
    "    \n",
    "\n",
    "for g in Blue5:\n",
    "    TooMany.append(g)\n",
    "n=1\n",
    "while n <=2:\n",
    "    for g in Blue5:\n",
    "        if n == 1:\n",
    "            P = ['Tv'+'*'+g[0],Tv^n*g[1]]\n",
    "            TooMany.append(P)\n",
    "        else:\n",
    "            P = ['Tv^'+str(n)+'*'+g[0],Tv^n*g[1]]\n",
    "            TooMany.append(P)\n",
    "    n += 1\n",
    "n=-1\n",
    "while n >=-8:\n",
    "    for g in Blue5:\n",
    "        P = ['Tv^'+str(n)+'*'+g[0],Tv^n*g[1]]\n",
    "        TooMany.append(P)\n",
    "    n -= 1\n",
    "\n",
    "\n",
    "for g in Red6:\n",
    "    TooMany.append(g)\n",
    "n=1\n",
    "while n <=1:\n",
    "    for g in Red6:\n",
    "        if n == 1:\n",
    "            P = ['Tv'+'*'+g[0],Tv^n*g[1]]\n",
    "            TooMany.append(P)\n",
    "        else:\n",
    "            P = ['Tv^'+str(n)+'*'+g[0],Tv^n*g[1]]\n",
    "            TooMany.append(P)\n",
    "    n += 1\n",
    "n=-1\n",
    "while n >=-8:\n",
    "    for g in Red6:\n",
    "        P = ['Tv^'+str(n)+'*'+g[0],Tv^n*g[1]]\n",
    "        TooMany.append(P)\n",
    "    n -= 1\n",
    "\n",
    "\n",
    "for g in Orangem1:\n",
    "    TooMany.append(g)\n",
    "n=1\n",
    "while n <=5:\n",
    "    for g in Orangem1:\n",
    "        if n == 1:\n",
    "            P = ['Tv'+'*'+g[0],Tv^n*g[1]]\n",
    "            TooMany.append(P)\n",
    "        else:\n",
    "            P = ['Tv^'+str(n)+'*'+g[0],Tv^n*g[1]]\n",
    "            TooMany.append(P)\n",
    "    n += 1\n",
    "n=-1\n",
    "while n >=-5:\n",
    "    for g in Orangem1:\n",
    "        P = ['Tv^'+str(n)+'*'+g[0],Tv^n*g[1]]\n",
    "        TooMany.append(P)\n",
    "    n -= 1\n",
    "\n",
    "\n",
    "\n",
    "for g in Pinkm2:\n",
    "    TooMany.append(g)\n",
    "n=1\n",
    "while n <=5:\n",
    "    for g in Pinkm2:\n",
    "        if n == 1:\n",
    "            P = ['Tv'+'*'+g[0],Tv^n*g[1]]\n",
    "            TooMany.append(P)\n",
    "        else:\n",
    "            P = ['Tv^'+str(n)+'*'+g[0],Tv^n*g[1]]\n",
    "            TooMany.append(P)\n",
    "    n += 1\n",
    "n=-1\n",
    "while n >=-4:\n",
    "    for g in Pinkm2:\n",
    "        P = ['Tv^'+str(n)+'*'+g[0],Tv^n*g[1]]\n",
    "        TooMany.append(P)\n",
    "    n -= 1\n",
    "\n",
    "\n",
    "\n",
    "for g in Greenm3:\n",
    "    TooMany.append(g)\n",
    "n=1\n",
    "while n <=6:\n",
    "    for g in Greenm3:\n",
    "        if n == 1:\n",
    "            P = ['Tv'+'*'+g[0],Tv^n*g[1]]\n",
    "            TooMany.append(P)\n",
    "        else:\n",
    "            P = ['Tv^'+str(n)+'*'+g[0],Tv^n*g[1]]\n",
    "            TooMany.append(P)\n",
    "    n += 1\n",
    "n=-1\n",
    "while n >=-4:\n",
    "    for g in Greenm3:\n",
    "        P = ['Tv^'+str(n)+'*'+g[0],Tv^n*g[1]]\n",
    "        TooMany.append(P)\n",
    "    n -= 1\n",
    "\n",
    "\n",
    "\n",
    "for g in Redm4:\n",
    "    TooMany.append(g)\n",
    "n=1\n",
    "while n <=6:\n",
    "    for g in Redm4:\n",
    "        if n == 1:\n",
    "            P = ['Tv'+'*'+g[0],Tv^n*g[1]]\n",
    "            TooMany.append(P)\n",
    "        else:\n",
    "            P = ['Tv^'+str(n)+'*'+g[0],Tv^n*g[1]]\n",
    "            TooMany.append(P)\n",
    "    n += 1\n",
    "n=-1\n",
    "while n >=-3:\n",
    "    for g in Redm4:\n",
    "        P = ['Tv^'+str(n)+'*'+g[0],Tv^n*g[1]]\n",
    "        TooMany.append(P)\n",
    "    n -= 1\n",
    "\n",
    "\n",
    "\n",
    "for g in Bluem5:\n",
    "    TooMany.append(g)\n",
    "n=1\n",
    "while n <=7:\n",
    "    for g in Bluem5:\n",
    "        if n == 1:\n",
    "            P = ['Tv'+'*'+g[0],Tv^n*g[1]]\n",
    "            TooMany.append(P)\n",
    "        else:\n",
    "            P = ['Tv^'+str(n)+'*'+g[0],Tv^n*g[1]]\n",
    "            TooMany.append(P)\n",
    "    n += 1\n",
    "n=-1\n",
    "while n >=-3:\n",
    "    for g in Bluem5:\n",
    "        P = ['Tv^'+str(n)+'*'+g[0],Tv^n*g[1]]\n",
    "        TooMany.append(P)\n",
    "    n -= 1\n",
    "\n",
    "\n",
    "\n",
    "for g in Orangem6:\n",
    "    TooMany.append(g)\n",
    "n=1\n",
    "while n <=6:\n",
    "    for g in Orangem6:\n",
    "        if n == 1:\n",
    "            P = ['Tv'+'*'+g[0],Tv^n*g[1]]\n",
    "            TooMany.append(P)\n",
    "        else:\n",
    "            P = ['Tv^'+str(n)+'*'+g[0],Tv^n*g[1]]\n",
    "            TooMany.append(P)\n",
    "    n += 1\n",
    "n=-1\n",
    "while n >=-2:\n",
    "    for g in Orangem6:\n",
    "        P = ['Tv^'+str(n)+'*'+g[0],Tv^n*g[1]]\n",
    "        TooMany.append(P)\n",
    "    n -= 1"
   ]
  },
  {
   "cell_type": "code",
   "execution_count": 10,
   "metadata": {
    "collapsed": false
   },
   "outputs": [
    {
     "data": {
      "text/plain": [
       "399"
      ]
     },
     "execution_count": 10,
     "metadata": {
     },
     "output_type": "execute_result"
    }
   ],
   "source": [
    "cycles = []\n",
    "for g in TooMany:\n",
    "    for P in points:\n",
    "        for Q in points:\n",
    "            gQ = g[1]*Q[1]\n",
    "            l = level(P[1],gQ)\n",
    "            if l <= 7:\n",
    "                aa = points.index(P)\n",
    "                c = points.index(Q)\n",
    "                gam1Pb = matrices[aa][1]^(-1)*g[1]*matrices[c][1]*Pinf\n",
    "                d = depth(gam1Pb)\n",
    "                if d <=7:\n",
    "                    C = [ matrices[aa], matrices[c], g]\n",
    "                    cycles.append(C)\n",
    "\n",
    "len(cycles)"
   ]
  },
  {
   "cell_type": "code",
   "execution_count": 11,
   "metadata": {
    "collapsed": false
   },
   "outputs": [
   ],
   "source": [
    "#Spidercrawl around, outward from the identity, in a nice pattern, attempting to identify which gamma_infinity translate we have on our hands.  It will be super inefficient.\n",
    "\n",
    "def spidercrawl(C):\n",
    "    #C is an element of cycles, consisting of A_a, A_c, and gamma_3\n",
    "    #returns the pair A_b, gamma_1\n",
    "    \n",
    "    found = 0\n",
    "    gamm1Pb = C[0][1]^(-1)*C[2][1]*C[1][1]*Pinf\n",
    "    s = gamm1Pb[2][0]\n",
    "    if not(s == 0):\n",
    "        gamm1Pb = gamm1Pb*s^(-1)\n",
    "    else:\n",
    "        found = 1\n",
    "        return [['Id',Id],['Id',Id]]\n",
    "    \n",
    "\n",
    "    d = depth(gamm1Pb)\n",
    "    levdpoints = []\n",
    "    levdmats = []\n",
    "    if d == 1:\n",
    "        levdpoints = [points[0]]\n",
    "        levdmats = [matrices[0]]\n",
    "    if d == 2:\n",
    "        levdpoints = [points[1],points[2]]\n",
    "        levdmats = [matrices[1],matrices[2]]\n",
    "    if d == 4:\n",
    "        levdpoints = [points[3],points[4],points[5],points[6],points[7]]\n",
    "        levdmats = [matrices[3],matrices[4],matrices[5],matrices[6],matrices[7]]\n",
    "    if d == 7:\n",
    "        levdpoints = [points[8],points[9],points[10],points[11],points[12],points[13]]\n",
    "        levdmats = [matrices[8],matrices[9],matrices[10],matrices[11],matrices[12],matrices[13]]\n",
    "    if len(levdpoints) == 0:\n",
    "        print 'error: bad depth.'\n",
    "        return []\n",
    "    \n",
    "    for p in levdpoints:\n",
    "        if gamm1Pb == p[1]:\n",
    "            found = 1\n",
    "            return [ levdmats[levdpoints.index(p)], ['Id',Id]]\n",
    "\n",
    "    W = matrices_gamma_infinity\n",
    "    while found == 0:\n",
    "        next = []\n",
    "        for w in W:\n",
    "            for p in levdpoints:\n",
    "                candidate = w[1]*p[1]\n",
    "                s = candidate[2][0]\n",
    "                if not(s == 1):\n",
    "                    candidate = candidate*s^(-1)\n",
    "                if candidate == gamm1Pb:\n",
    "                    found = 1\n",
    "                    return [levdmats[levdpoints.index(p)],w]\n",
    "            for m in matrices_gamma_infinity:\n",
    "                next.append([m[0]+'*'+w[0],m[1]*w[1] ])\n",
    "        W = next\n",
    "\n"
   ]
  },
  {
   "cell_type": "code",
   "execution_count": 12,
   "metadata": {
    "collapsed": false
   },
   "outputs": [
    {
     "data": {
      "text/plain": [
       "'(I0)^-1*(Id)^-1*(I0)*(Id)*(Id) == Id'"
      ]
     },
     "execution_count": 12,
     "metadata": {
     },
     "output_type": "execute_result"
    }
   ],
   "source": [
    "def findRelation(C):\n",
    "    \n",
    "    B = spidercrawl(C)\n",
    "    gamma = C[1][1]^-1*C[2][1]^-1*C[0][1]*B[1][1]*B[0][1]\n",
    "    found = 0\n",
    "    \n",
    "    if gamma == Id:\n",
    "        found = 1\n",
    "        return '('+C[1][0]+')^-1*('+C[2][0]+')^-1*('+C[0][0]+')*('+B[1][0]+')*('+B[0][0]+') == Id'\n",
    "    if gamma == -Id:\n",
    "        found = 1\n",
    "        return '('+C[1][0]+')^-1*('+C[2][0]+')^-1*('+C[0][0]+')*('+B[1][0]+')*('+B[0][0]+') == -Id'\n",
    "    \n",
    "    W = matrices_gamma_infinity\n",
    "    while found == 0:\n",
    "        next = []\n",
    "        for w in W:\n",
    "            if gamma == w[1]:\n",
    "                found = 1\n",
    "                return '('+C[1][0]+')^-1*('+C[2][0]+')^-1*('+C[0][0]+')*('+B[1][0]+')*('+B[0][0]+') == '+w[0]\n",
    "            if gamma == -w[1]:\n",
    "                found = 1\n",
    "                return '('+C[1][0]+')^-1*('+C[2][0]+')^-1*('+C[0][0]+')*('+B[1][0]+')*('+B[0][0]+') == -'+w[0]\n",
    "            for m in matrices_gamma_infinity:\n",
    "                next.append([m[0]+'*'+w[0],m[1]*w[1] ])\n",
    "        W = next\n",
    "        \n",
    "findRelation(cycles[0])"
   ]
  },
  {
   "cell_type": "code",
   "execution_count": 13,
   "metadata": {
    "collapsed": false
   },
   "outputs": [
    {
     "name": "stdout",
     "output_type": "stream",
     "text": [
      "(I0)^-1*(Id)^-1*(I0)*(Id)*(Id) == Id\n",
      "(A22)^-1*(Id)^-1*(I0)*(T1^-1)*(A43) == T1^-1\n"
     ]
    },
    {
     "name": "stdout",
     "output_type": "stream",
     "text": [
      "(A42)^-1*(Id)^-1*(I0)*(Tv^-1*T1^-1)*(A21) == T1*Ttau*T1*R\n",
      "(A43)^-1*(Id)^-1*(I0)*(T1*Ttau)*(I0) == -T1*Ttau\n",
      "(A71)^-1*(Id)^-1*(I0)*(Tv^-1)*(I0) == -R\n",
      "(A72)^-1*(Id)^-1*(I0)*(Tv^-1)*(A41) == -Id\n",
      "(A21)^-1*(Id)^-1*(A21)*(Id)*(Id) == Id\n"
     ]
    },
    {
     "name": "stdout",
     "output_type": "stream",
     "text": [
      "(A41)^-1*(Id)^-1*(A21)*(R*T1^-1*Ttau^-1)*(A44) == Tv*Ttau^-1\n"
     ]
    },
    {
     "name": "stdout",
     "output_type": "stream",
     "text": [
      "(A44)^-1*(Id)^-1*(A21)*(Tv^-1*T1)*(A21) == -T1*T1*Ttau*R\n",
      "(A45)^-1*(Id)^-1*(A21)*(T1)*(I0) == -Ttau*R\n"
     ]
    },
    {
     "name": "stdout",
     "output_type": "stream",
     "text": [
      "(A74)^-1*(Id)^-1*(A21)*(R*T1^-1*Ttau^-1)*(A45) == -Ttau^-1*T1\n",
      "(A75)^-1*(Id)^-1*(A21)*(Id)*(I0) == -T1*R\n",
      "(A76)^-1*(Id)^-1*(A21)*(Ttau^-1*T1*T1)*(A21) == Tv*Ttau^-1*T1^-1\n",
      "(I0)^-1*(Id)^-1*(A22)*(T1^-1)*(A43) == T1^-1\n",
      "(A22)^-1*(Id)^-1*(A22)*(Id)*(Id) == Id"
     ]
    },
    {
     "name": "stdout",
     "output_type": "stream",
     "text": [
      "\n",
      "(A41)^-1*(Id)^-1*(A22)*(Ttau*T1^-1)*(A21) == -T1*R\n",
      "(A42)^-1*(Id)^-1*(A22)*(Id)*(I0) == Id\n",
      "(A44)^-1*(Id)^-1*(A22)*(T1^-1*Ttau*T1^-1)*(I0) == T1*Ttau*R\n"
     ]
    },
    {
     "name": "stdout",
     "output_type": "stream",
     "text": [
      "(A73)^-1*(Id)^-1*(A22)*(Ttau*T1^-1)*(A45) == Ttau*R\n",
      "(A74)^-1*(Id)^-1*(A22)*(T1^-1*Ttau*T1^-1)*(A43) == Ttau^-1\n",
      "(I0)^-1*(Id)^-1*(A41)*(Id)*(A74) == -Id\n",
      "(A41)^-1*(Id)^-1*(A41)*(Id)*(Id) == Id\n",
      "(A44)^-1*(Id)^-1*(A41)*(Ttau^-1)*(A22) == T1\n",
      "(A73)^-1*(Id)^-1*(A41)*(Tv)*(I0) == R\n",
      "(A74)^-1*(Id)^-1*(A41)*(Id)*(I0) == -Id\n",
      "(I0)^-1*(Id)^-1*(A42)*(Id)*(A22) == Id\n",
      "(A22)^-1*(Id)^-1*(A42)*(Id)*(I0) == Id\n",
      "(A42)^-1*(Id)^-1*(A42)*(Id)*(Id) == Id\n"
     ]
    },
    {
     "name": "stdout",
     "output_type": "stream",
     "text": [
      "(A71)^-1*(Id)^-1*(A42)*(T1*Ttau*R)*(A44) == -T1*Ttau*R\n",
      "(A72)^-1*(Id)^-1*(A42)*(Ttau*T1^-1)*(A22) == T1*Ttau^-1*T1\n",
      "(I0)^-1*(Id)^-1*(A43)*(T1*Ttau)*(I0) == -T1*Ttau\n",
      "(A43)^-1*(Id)^-1*(A43)*(Id)*(Id) == Id\n",
      "(A21)^-1*(Id)^-1*(A44)*(Tv^-1)*(A22) == -T1*T1\n"
     ]
    },
    {
     "name": "stdout",
     "output_type": "stream",
     "text": [
      "(A41)^-1*(Id)^-1*(A44)*(Tv^-1)*(A21) == T1*R*T1^-1\n",
      "(A44)^-1*(Id)^-1*(A44)*(Id)*(Id) == Id\n",
      "(A45)^-1*(Id)^-1*(A44)*(Tv^-1*Ttau)*(I0) == T1^-1*Ttau\n",
      "(A74)^-1*(Id)^-1*(A44)*(Id)*(I0) == -R*T1^-1\n",
      "(A21)^-1*(Id)^-1*(A45)*(Ttau)*(I0) == -T1*R\n",
      "(A45)^-1*(Id)^-1*(A45)*(Id)*(Id) == Id\n",
      "(A75)^-1*(Id)^-1*(A45)*(Id)*(A22) == Tv*R\n",
      "(A76)^-1*(Id)^-1*(A45)*(Ttau)*(A42) == -Ttau^-1\n",
      "(I0)^-1*(Id)^-1*(A71)*(Id)*(I0) == -Tv^-1*R\n",
      "(A71)^-1*(Id)^-1*(A71)*(Id)*(Id) == Id\n",
      "(I0)^-1*(Id)^-1*(A72)*(Id)*(A41) == -Tv^-1\n",
      "(A71)^-1*(Id)^-1*(A72)*(Id)*(A74) == -R\n",
      "(A72)^-1*(Id)^-1*(A72)*(Id)*(Id) == Id\n",
      "(A41)^-1*(Id)^-1*(A73)*(Id)*(I0) == Tv*R\n",
      "(A72)^-1*(Id)^-1*(A73)*(Id)*(A73) == -R\n",
      "(A73)^-1*(Id)^-1*(A73)*(Id)*(Id) == Id\n",
      "(A74)^-1*(Id)^-1*(A73)*(Id)*(A71) == Id\n"
     ]
    },
    {
     "name": "stdout",
     "output_type": "stream",
     "text": [
      "(A21)^-1*(Id)^-1*(A74)*(Tv^-1)*(A44) == Id\n",
      "(A41)^-1*(Id)^-1*(A74)*(Id)*(I0) == -Id\n",
      "(A44)^-1*(Id)^-1*(A74)*(Tv^-1*T1)*(I0) == -R\n",
      "(A73)^-1*(Id)^-1*(A74)*(Tv^-1)*(A76) == -R\n",
      "(A74)^-1*(Id)^-1*(A74)*(Id)*(Id) == Id\n",
      "(A21)^-1*(Id)^-1*(A75)*(T1)*(I0) == -R\n",
      "(A44)^-1*(Id)^-1*(A75)*(R)*(A21) == -Id\n",
      "(A45)^-1*(Id)^-1*(A75)*(Ttau^-1*T1)*(A21) == Tv*T1^-1\n",
      "(A75)^-1*(Id)^-1*(A75)*(Id)*(Id) == Id\n",
      "(A76)^-1*(Id)^-1*(A75)*(Id)*(A73) == Id\n",
      "(A21)^-1*(Id)^-1*(A76)*(Ttau^-1)*(A22) == T1*R\n",
      "(A76)^-1*(Id)^-1*(A76)*(Id)*(Id) == Id\n",
      "(I0)^-1*(Ttau)^-1*(I0)*(Ttau)*(I0) == -Ttau^-1*R\n"
     ]
    },
    {
     "name": "stdout",
     "output_type": "stream",
     "text": [
      "(A21)^-1*(Ttau)^-1*(A21)*(R*T1^-1*Ttau^-1*T1^-1)*(A41) == -R*T1^-1\n"
     ]
    },
    {
     "name": "stdout",
     "output_type": "stream",
     "text": [
      "(A41)^-1*(Ttau)^-1*(A21)*(Tv^-1*T1*T1)*(A44) == Tv*Ttau*R\n"
     ]
    },
    {
     "name": "stdout",
     "output_type": "stream",
     "text": [
      "(A44)^-1*(Ttau)^-1*(A21)*(R*T1^-1*Ttau^-1*T1^-1*T1^-1)*(A45) == -T1*Ttau^-1*T1\n",
      "(A74)^-1*(Ttau)^-1*(A21)*(Tv^-1*T1*T1)*(A45) == -T1^-1*Ttau*R\n"
     ]
    },
    {
     "name": "stdout",
     "output_type": "stream",
     "text": [
      "(A75)^-1*(Ttau)^-1*(A21)*(T1*T1*T1*Ttau)*(I0) == -R*T1\n"
     ]
    },
    {
     "name": "stdout",
     "output_type": "stream",
     "text": [
      "(A76)^-1*(Ttau)^-1*(A21)*(Tv^-1*Tv^-1*T1*Ttau)*(A21) == Tv*T1^-1*T1^-1\n",
      "(I0)^-1*(Ttau)^-1*(A22)*(T1^-1)*(I0) == R*T1^-1\n",
      "(A71)^-1*(Ttau)^-1*(A22)*(Tv^-1*R)*(A22) == -Ttau^-1*T1\n",
      "(A72)^-1*(Ttau)^-1*(A22)*(Tv^-1*T1)*(I0) == R*T1\n"
     ]
    },
    {
     "name": "stdout",
     "output_type": "stream",
     "text": [
      "(A73)^-1*(Ttau)^-1*(A22)*(Tv^-1*Ttau*R)*(A44) == -Tv*Ttau*R\n",
      "(I0)^-1*(Ttau)^-1*(A42)*(T1^-1)*(A22) == Ttau^-1*T1*T1\n",
      "(A71)^-1*(Ttau)^-1*(A42)*(T1^-1)*(A44) == -Ttau^-1*T1^-1\n",
      "(A72)^-1*(Ttau)^-1*(A42)*(Ttau^-1)*(A22) == Tv\n",
      "(I0)^-1*(Ttau)^-1*(A43)*(Tv^-1*T1)*(A21) == T1*R\n",
      "(I0)^-1*(Ttau^-1)^-1*(I0)*(Ttau^-1)*(I0) == -Ttau*R\n",
      "(A22)^-1*(Ttau^-1)^-1*(I0)*(Tv^-1*T1)*(I0) == T1^-1*R\n"
     ]
    },
    {
     "name": "stdout",
     "output_type": "stream",
     "text": [
      "(A42)^-1*(Ttau^-1)^-1*(I0)*(Tv^-1*Ttau^-1*T1)*(A21) == Ttau*T1*R\n",
      "(A43)^-1*(Ttau^-1)^-1*(I0)*(R)*(A22) == Ttau*R\n",
      "(A22)^-1*(Ttau^-1)^-1*(A71)*(Tv^-1*R)*(A21) == -R*T1^-1\n",
      "(A42)^-1*(Ttau^-1)^-1*(A71)*(Tv^-1*R)*(A45) == Ttau^-1\n",
      "(A22)^-1*(Ttau^-1)^-1*(A72)*(R*T1)*(I0) == Tv^-1*T1\n"
     ]
    },
    {
     "name": "stdout",
     "output_type": "stream",
     "text": [
      "(A42)^-1*(Ttau^-1)^-1*(A72)*(T1^-1)*(A21) == T1*R*T1^-1\n",
      "(I0)^-1*(R)^-1*(I0)*(Id)*(Id) == R\n",
      "(A22)^-1*(R)^-1*(I0)*(Ttau^-1)*(A43) == Ttau*R\n",
      "(A42)^-1*(R)^-1*(I0)*(Tv^-1*Ttau^-1*T1)*(A21) == Tv*T1^-1\n",
      "(A43)^-1*(R)^-1*(I0)*(Ttau^-1*T1^-1)*(I0) == -T1*Ttau*R\n"
     ]
    },
    {
     "name": "stdout",
     "output_type": "stream",
     "text": [
      "(A71)^-1*(R)^-1*(I0)*(Tv^-1)*(I0) == -Id\n",
      "(A72)^-1*(R)^-1*(I0)*(Tv^-1)*(A41) == -R\n",
      "(A21)^-1*(R)^-1*(A21)*(Tv^-1*T1)*(A41) == -R*T1^-1\n"
     ]
    },
    {
     "name": "stdout",
     "output_type": "stream",
     "text": [
      "(A41)^-1*(R)^-1*(A21)*(R*T1^-1*Ttau^-1)*(A44) == Tv*Ttau*R\n",
      "(A44)^-1*(R)^-1*(A21)*(Tv^-1)*(A45) == -T1*Ttau^-1*T1\n"
     ]
    },
    {
     "name": "stdout",
     "output_type": "stream",
     "text": [
      "(A74)^-1*(R)^-1*(A21)*(R*T1^-1*Ttau^-1)*(A45) == -T1^-1*Ttau*R\n",
      "(A75)^-1*(R)^-1*(A21)*(Id)*(I0) == -Tv*T1^-1\n",
      "(A76)^-1*(R)^-1*(A21)*(Ttau^-1*T1*T1)*(A21) == Ttau*T1*R\n",
      "(I0)^-1*(R)^-1*(A22)*(T1^-1)*(A43) == R*T1^-1\n",
      "(A41)^-1*(R)^-1*(A22)*(Ttau*T1^-1)*(A21) == -Tv*T1^-1\n",
      "(A73)^-1*(R)^-1*(A22)*(Ttau*T1^-1)*(A45) == Ttau^-1\n"
     ]
    },
    {
     "name": "stdout",
     "output_type": "stream",
     "text": [
      "(A74)^-1*(R)^-1*(A22)*(T1^-1*Ttau*T1^-1)*(A43) == Ttau*R\n",
      "(I0)^-1*(R)^-1*(A41)*(Id)*(A74) == -R\n",
      "(A41)^-1*(R)^-1*(A41)*(Id)*(Id) == R\n",
      "(A44)^-1*(R)^-1*(A41)*(T1^-1)*(A22) == T1^-1*Ttau*R\n",
      "(A73)^-1*(R)^-1*(A41)*(Tv)*(I0) == Id\n",
      "(A74)^-1*(R)^-1*(A41)*(Id)*(I0) == -R\n",
      "(I0)^-1*(R)^-1*(A42)*(Id)*(A22) == R\n"
     ]
    },
    {
     "name": "stdout",
     "output_type": "stream",
     "text": [
      "(A71)^-1*(R)^-1*(A42)*(T1*Ttau*R)*(A44) == -Ttau^-1*T1^-1\n"
     ]
    },
    {
     "name": "stdout",
     "output_type": "stream",
     "text": [
      "(A72)^-1*(R)^-1*(A42)*(Ttau*T1^-1)*(A22) == R*T1*Ttau^-1*T1\n",
      "(I0)^-1*(R)^-1*(A43)*(T1*Ttau)*(I0) == -Ttau^-1*T1^-1*R\n"
     ]
    },
    {
     "name": "stdout",
     "output_type": "stream",
     "text": [
      "(A21)^-1*(R)^-1*(A44)*(Tv^-1*T1)*(A44) == T1*Ttau*R\n",
      "(A41)^-1*(R)^-1*(A44)*(Tv^-1)*(A21) == Tv*T1^-1*T1^-1\n",
      "(A44)^-1*(R)^-1*(A44)*(Tv^-1*T1)*(A41) == -R*T1^-1\n",
      "(A74)^-1*(R)^-1*(A44)*(Id)*(I0) == -T1^-1\n",
      "(A21)^-1*(R)^-1*(A45)*(Ttau)*(A72) == -Tv^-1*T1\n",
      "(A75)^-1*(R)^-1*(A45)*(Id)*(A22) == Tv\n",
      "(A76)^-1*(R)^-1*(A45)*(Ttau)*(A42) == -Ttau*R\n",
      "(I0)^-1*(R)^-1*(A71)*(Id)*(I0) == -Tv^-1"
     ]
    },
    {
     "name": "stdout",
     "output_type": "stream",
     "text": [
      "\n",
      "(A71)^-1*(R)^-1*(A71)*(Id)*(Id) == R\n",
      "(I0)^-1*(R)^-1*(A72)*(Id)*(A41) == -Tv^-1*R\n",
      "(A71)^-1*(R)^-1*(A72)*(Id)*(A74) == -Id\n",
      "(A72)^-1*(R)^-1*(A72)*(Id)*(Id) == R\n",
      "(A41)^-1*(R)^-1*(A73)*(Id)*(I0) == Tv\n",
      "(A72)^-1*(R)^-1*(A73)*(Id)*(A73) == -Id\n",
      "(A73)^-1*(R)^-1*(A73)*(Id)*(Id) == R\n",
      "(A74)^-1*(R)^-1*(A73)*(Id)*(A71) == R\n",
      "(A21)^-1*(R)^-1*(A74)*(Tv^-1*R)*(A44) == Id\n",
      "(A41)^-1*(R)^-1*(A74)*(Id)*(I0) == -R\n",
      "(A44)^-1*(R)^-1*(A74)*(T1^-1)*(I0) == -Id\n",
      "(A73)^-1*(R)^-1*(A74)*(Tv^-1)*(A76) == -Id\n",
      "(A74)^-1*(R)^-1*(A74)*(Id)*(Id) == R\n",
      "(A21)^-1*(R)^-1*(A75)*(R*T1)*(I0) == -R\n",
      "(A44)^-1*(R)^-1*(A75)*(Id)*(A21) == -Id\n"
     ]
    },
    {
     "name": "stdout",
     "output_type": "stream",
     "text": [
      "(A45)^-1*(R)^-1*(A75)*(T1^-1)*(A21) == T1*Ttau*T1*R\n",
      "(A75)^-1*(R)^-1*(A75)*(Id)*(Id) == R\n",
      "(A76)^-1*(R)^-1*(A75)*(Id)*(A73) == R\n"
     ]
    },
    {
     "name": "stdout",
     "output_type": "stream",
     "text": [
      "(A21)^-1*(R)^-1*(A76)*(T1^-1)*(A22) == T1*Ttau^-1*T1*T1\n",
      "(A76)^-1*(R)^-1*(A76)*(Id)*(Id) == R\n",
      "(I0)^-1*(Ttau*R)^-1*(I0)*(Ttau)*(I0) == -Ttau\n",
      "(A22)^-1*(Ttau*R)^-1*(I0)*(T1^-1)*(I0) == T1^-1\n",
      "(A42)^-1*(Ttau*R)^-1*(I0)*(Tv^-1*T1^-1)*(A21) == Tv*T1^-1*T1^-1\n",
      "(A43)^-1*(Ttau*R)^-1*(I0)*(Id)*(A22) == Ttau*R\n"
     ]
    },
    {
     "name": "stdout",
     "output_type": "stream",
     "text": [
      "(A21)^-1*(Ttau*R)^-1*(A21)*(Id)*(Id) == T1*T1*T1*Ttau*R\n",
      "(A41)^-1*(Ttau*R)^-1*(A21)*(Tv^-1*T1*T1)*(A44) == Tv*Ttau^-1\n",
      "(A44)^-1*(Ttau*R)^-1*(A21)*(Tv^-1*T1*T1)*(A21) == -T1^-1\n"
     ]
    },
    {
     "name": "stdout",
     "output_type": "stream",
     "text": [
      "(A45)^-1*(Ttau*R)^-1*(A21)*(T1*T1*Ttau)*(I0) == -Ttau\n",
      "(A74)^-1*(Ttau*R)^-1*(A21)*(Tv^-1*T1*T1)*(A45) == -Ttau^-1*T1\n"
     ]
    },
    {
     "name": "stdout",
     "output_type": "stream",
     "text": [
      "(A75)^-1*(Ttau*R)^-1*(A21)*(T1*T1*T1*Ttau)*(I0) == -T1\n"
     ]
    },
    {
     "name": "stdout",
     "output_type": "stream",
     "text": [
      "(A76)^-1*(Ttau*R)^-1*(A21)*(Tv^-1*Tv^-1*T1*Ttau)*(A21) == T1*R*T1^-1\n",
      "(I0)^-1*(Ttau*R)^-1*(A22)*(T1^-1)*(I0) == T1^-1\n",
      "(A22)^-1*(Ttau*R)^-1*(A22)*(Ttau)*(I0) == -Ttau\n",
      "(A42)^-1*(Ttau*R)^-1*(A22)*(Id)*(I0) == Ttau*R\n",
      "(A71)^-1*(Ttau*R)^-1*(A22)*(Tv^-1*R)*(A22) == -T1^-1*Ttau*R\n",
      "(A72)^-1*(Ttau*R)^-1*(A22)*(Tv^-1*T1)*(I0) == T1\n"
     ]
    },
    {
     "name": "stdout",
     "output_type": "stream",
     "text": [
      "(A73)^-1*(Ttau*R)^-1*(A22)*(Tv^-1*Ttau*R)*(A44) == -Tv*Ttau^-1\n"
     ]
    },
    {
     "name": "stdout",
     "output_type": "stream",
     "text": [
      "(I0)^-1*(Ttau*R)^-1*(A42)*(T1^-1)*(A22) == T1^-1*T1^-1*Ttau*R\n",
      "(A22)^-1*(Ttau*R)^-1*(A42)*(Ttau)*(I0) == R\n",
      "(A42)^-1*(Ttau*R)^-1*(A42)*(Id)*(Id) == Ttau*R\n",
      "(A71)^-1*(Ttau*R)^-1*(A42)*(T1^-1)*(A44) == -T1*Ttau*R\n",
      "(A72)^-1*(Ttau*R)^-1*(A42)*(Ttau^-1)*(A22) == Tv*R\n",
      "(I0)^-1*(Ttau*R)^-1*(A43)*(Tv^-1*T1)*(A21) == Tv*T1^-1\n"
     ]
    },
    {
     "name": "stdout",
     "output_type": "stream",
     "text": [
      "(A45)^-1*(Ttau*R)^-1*(A44)*(Tv^-1*T1^-1)*(A22) == -T1^-1*T1^-1*Ttau*R\n",
      "(A45)^-1*(Ttau*R)^-1*(A45)*(T1^-1)*(A43) == -Ttau*R\n",
      "(A22)^-1*(Ttau*R)^-1*(A71)*(Tv^-1)*(A21) == -R*T1^-1\n",
      "(A42)^-1*(Ttau*R)^-1*(A71)*(Tv^-1)*(A45) == Ttau^-1\n",
      "(A22)^-1*(Ttau*R)^-1*(A72)*(T1)*(I0) == Tv^-1*T1\n",
      "(A42)^-1*(Ttau*R)^-1*(A72)*(Ttau^-1*T1)*(A21) == Tv*Ttau^-1*T1^-1\n"
     ]
    },
    {
     "name": "stdout",
     "output_type": "stream",
     "text": [
      "(A22)^-1*(Ttau^2*R)^-1*(A22)*(Tv^-1)*(A41) == -Tv^-1*R\n",
      "(A42)^-1*(Ttau^2*R)^-1*(A22)*(Tv^-1)*(A73) == -Id\n",
      "(I0)^-1*(Ttau^-1*R)^-1*(I0)*(Ttau^-1)*(I0) == -Ttau^-1\n",
      "(I0)^-1*(Tv*Id)^-1*(I0)*(Tv^-1)*(A76) == Id\n",
      "(I0)^-1*(Tv*Id)^-1*(A21)*(Tv^-1*T1*T1)*(I0) == T1\n"
     ]
    },
    {
     "name": "stdout",
     "output_type": "stream",
     "text": [
      "(A43)^-1*(Tv*Id)^-1*(A21)*(R*T1^-1*Ttau^-1*T1^-1)*(I0) == T1\n",
      "(I0)^-1*(Tv*Id)^-1*(A22)*(Ttau*T1^-1*R)*(A45) == -Ttau*R\n",
      "(I0)^-1*(Tv*Id)^-1*(A41)*(Id)*(A73) == R\n"
     ]
    },
    {
     "name": "stdout",
     "output_type": "stream",
     "text": [
      "(I0)^-1*(Tv*Id)^-1*(A44)*(R*T1^-1*Ttau^-1)*(A44) == -Tv*Ttau^-1\n",
      "(I0)^-1*(Tv*Id)^-1*(A45)*(Ttau*T1^-1)*(A22) == -T1*Ttau^-1*T1\n",
      "(I0)^-1*(Tv*Id)^-1*(A75)*(Id)*(A41) == R\n",
      "(I0)^-1*(Tv*Id)^-1*(A76)*(Id)*(I0) == Tv\n"
     ]
    },
    {
     "name": "stdout",
     "output_type": "stream",
     "text": [
      "(I0)^-1*(Tv*Ttau)^-1*(A21)*(Tv^-1*T1*Ttau)*(I0) == Tv*T1^-1\n",
      "(A43)^-1*(Tv*Ttau^-1)^-1*(A21)*(Tv^-1*T1)*(A74) == T1*R\n",
      "(A43)^-1*(Tv*Ttau^-1)^-1*(A44)*(Tv^-1*T1)*(A45) == Ttau*R\n",
      "(A43)^-1*(Tv*Ttau^-1)^-1*(A75)*(R)*(A22) == -T1*Ttau^-1*T1\n",
      "(I0)^-1*(Tv*R)^-1*(I0)*(Tv^-1)*(A76) == R\n"
     ]
    },
    {
     "name": "stdout",
     "output_type": "stream",
     "text": [
      "(I0)^-1*(Tv*R)^-1*(A21)*(Tv^-1*T1*T1)*(I0) == R*T1\n",
      "(I0)^-1*(Tv*R)^-1*(A22)*(Ttau*T1^-1*R)*(A45) == -Ttau^-1\n",
      "(I0)^-1*(Tv*R)^-1*(A41)*(Id)*(A73) == Id\n"
     ]
    },
    {
     "name": "stdout",
     "output_type": "stream",
     "text": [
      "(I0)^-1*(Tv*R)^-1*(A44)*(R*T1^-1*Ttau^-1)*(A44) == -Tv*Ttau*R\n"
     ]
    },
    {
     "name": "stdout",
     "output_type": "stream",
     "text": [
      "(I0)^-1*(Tv*R)^-1*(A45)*(Ttau*T1^-1)*(A22) == -R*T1*Ttau^-1*T1\n",
      "(I0)^-1*(Tv*R)^-1*(A75)*(Id)*(A41) == Id\n",
      "(I0)^-1*(Tv*R)^-1*(A76)*(Id)*(I0) == Tv*R\n",
      "(I0)^-1*(Tv*Ttau*R)^-1*(A21)*(Tv^-1*T1*Ttau)*(I0) == T1*R\n"
     ]
    },
    {
     "name": "stdout",
     "output_type": "stream",
     "text": [
      "(A43)^-1*(Tv*Ttau*R)^-1*(A21)*(Tv^-1*T1)*(I0) == T1\n",
      "(A43)^-1*(Tv*Ttau*R)^-1*(A75)*(Id)*(A22) == -T1*Ttau^-1*T1\n"
     ]
    },
    {
     "name": "stdout",
     "output_type": "stream",
     "text": [
      "(A43)^-1*(Tv*Ttau^2*R)^-1*(A21)*(R*T1^-1*Ttau^-1*T1^-1)*(A74) == T1*R\n",
      "(I0)^-1*(Tv^-1*Id)^-1*(I0)*(Id)*(A71) == -R\n",
      "(A21)^-1*(Tv^-1*Id)^-1*(I0)*(T1)*(I0) == Tv^-1*T1*T1\n",
      "(A75)^-1*(Tv^-1*Id)^-1*(I0)*(Id)*(A41) == R\n",
      "(A76)^-1*(Tv^-1*Id)^-1*(I0)*(Tv)*(I0) == Id\n",
      "(A21)^-1*(Tv^-1*Ttau)^-1*(A43)*(Tv^-1*T1)*(A75) == -Tv^-1*T1\n"
     ]
    },
    {
     "name": "stdout",
     "output_type": "stream",
     "text": [
      "(A75)^-1*(Tv^-1*Ttau)^-1*(A43)*(Ttau^-1*T1)*(A21) == -Tv*Ttau^-1*T1^-1*T1^-1\n",
      "(A76)^-1*(Tv^-1*Ttau)^-1*(A43)*(Tv^-1*T1)*(A45) == -Ttau^-1\n",
      "(I0)^-1*(Tv^-1*R)^-1*(I0)*(Id)*(A71) == -Id\n",
      "(A21)^-1*(Tv^-1*R)^-1*(I0)*(R*T1)*(I0) == Tv^-1*T1*T1\n",
      "(A75)^-1*(Tv^-1*R)^-1*(I0)*(Id)*(A41) == Id\n",
      "(A76)^-1*(Tv^-1*R)^-1*(I0)*(Tv)*(I0) == R\n",
      "(A21)^-1*(Tv^-1*Ttau*R)^-1*(A43)*(T1)*(I0) == Tv^-1*T1\n"
     ]
    },
    {
     "name": "stdout",
     "output_type": "stream",
     "text": [
      "(A75)^-1*(Tv^-1*Ttau*R)^-1*(A43)*(Ttau^-1*T1)*(A21) == -T1*Ttau*T1*R\n",
      "(A76)^-1*(Tv^-1*Ttau*R)^-1*(A43)*(Tv^-1*T1)*(A45) == -Ttau*R\n",
      "(I0)^-1*(T1)^-1*(I0)*(Tv^-1)*(A21) == Tv*T1^-1*T1^-1\n",
      "(I0)^-1*(T1)^-1*(A21)*(Tv^-1*T1)*(A44) == Ttau^-1*T1^-1\n"
     ]
    },
    {
     "name": "stdout",
     "output_type": "stream",
     "text": [
      "(A41)^-1*(T1)^-1*(A21)*(T1*Ttau^-1*T1)*(A22) == -Tv*R\n"
     ]
    },
    {
     "name": "stdout",
     "output_type": "stream",
     "text": [
      "(A44)^-1*(T1)^-1*(A21)*(T1*R*T1^-1*T1^-1)*(A45) == -Ttau^-1*T1\n",
      "(A73)^-1*(T1)^-1*(A21)*(T1*Ttau^-1*T1)*(A42) == -Id\n"
     ]
    },
    {
     "name": "stdout",
     "output_type": "stream",
     "text": [
      "(A74)^-1*(T1)^-1*(A21)*(T1*R*T1^-1*T1^-1)*(A44) == T1*Ttau*R\n",
      "(I0)^-1*(T1)^-1*(A22)*(T1^-1*Ttau)*(I0) == T1^-1*R\n",
      "(A22)^-1*(T1)^-1*(A22)*(T1^-1*T1^-1)*(I0) == -Ttau*R\n"
     ]
    },
    {
     "name": "stdout",
     "output_type": "stream",
     "text": [
      "(A42)^-1*(T1)^-1*(A22)*(T1^-1*T1^-1*Ttau)*(I0) == Ttau\n",
      "(A71)^-1*(T1)^-1*(A22)*(T1^-1*Ttau*T1^-1)*(A22) == -T1^-1*Ttau*R\n"
     ]
    },
    {
     "name": "stdout",
     "output_type": "stream",
     "text": [
      "(A72)^-1*(T1)^-1*(A22)*(T1^-1*T1^-1*Ttau*T1^-1)*(I0) == T1*R\n"
     ]
    },
    {
     "name": "stdout",
     "output_type": "stream",
     "text": [
      "(A73)^-1*(T1)^-1*(A22)*(Tv^-1*T1^-1*T1^-1)*(A44) == -Tv*Ttau^-1\n"
     ]
    },
    {
     "name": "stdout",
     "output_type": "stream",
     "text": [
      "(I0)^-1*(T1)^-1*(A41)*(R*T1)*(I0) == -T1^-1*R*T1\n",
      "(I0)^-1*(T1)^-1*(A42)*(T1^-1*Ttau)*(I0) == -T1^-1*T1^-1*Ttau\n"
     ]
    },
    {
     "name": "stdout",
     "output_type": "stream",
     "text": [
      "(I0)^-1*(T1)^-1*(A43)*(Tv^-1)*(A21) == T1*Ttau*T1*R\n",
      "(I0)^-1*(T1)^-1*(A44)*(Tv^-1*T1)*(A21) == Ttau^-1*T1^-1*T1^-1\n",
      "(A71)^-1*(T1)^-1*(A44)*(T1)*(A43) == -T1^-1\n"
     ]
    },
    {
     "name": "stdout",
     "output_type": "stream",
     "text": [
      "(A72)^-1*(T1)^-1*(A44)*(Tv^-1*T1*Ttau)*(A21) == Tv*T1^-1\n",
      "(I0)^-1*(T1)^-1*(A45)*(Ttau*T1^-1)*(A45) == -T1^-1*Ttau*R\n",
      "(A72)^-1*(T1)^-1*(A45)*(Ttau)*(A21) == -Ttau*T1*R\n"
     ]
    },
    {
     "name": "stdout",
     "output_type": "stream",
     "text": [
      "(A73)^-1*(T1)^-1*(A45)*(T1^-1*Ttau*Ttau*T1^-1)*(I0) == -T1*R\n"
     ]
    },
    {
     "name": "stdout",
     "output_type": "stream",
     "text": [
      "(I0)^-1*(T1)^-1*(A72)*(R*T1^-1)*(A45) == T1^-1*T1^-1*Ttau*Ttau*R\n",
      "(I0)^-1*(T1)^-1*(A73)*(Ttau^-1)*(A22) == -Tv*T1^-1\n",
      "(I0)^-1*(T1)^-1*(A74)*(Tv^-1*R)*(A21) == R\n",
      "(I0)^-1*(T1)^-1*(A75)*(R)*(A44) == R\n",
      "(I0)^-1*(T1*Ttau)^-1*(I0)*(Id)*(A43) == -Ttau^-1*T1^-1\n",
      "(I0)^-1*(T1*Ttau)^-1*(A22)*(T1^-1*T1^-1)*(A43) == Ttau^-1\n"
     ]
    },
    {
     "name": "stdout",
     "output_type": "stream",
     "text": [
      "(A41)^-1*(T1*Ttau)^-1*(A22)*(Tv^-1*T1^-1*R)*(A21) == -Tv*T1^-1\n",
      "(A73)^-1*(T1*Ttau)^-1*(A22)*(Tv^-1*T1^-1*R)*(A45) == Ttau^-1\n",
      "(A74)^-1*(T1*Ttau)^-1*(A22)*(Tv^-1*R)*(A43) == Ttau*R\n",
      "(I0)^-1*(T1*Ttau)^-1*(A43)*(Id)*(I0) == -Ttau^-1*T1^-1\n"
     ]
    },
    {
     "name": "stdout",
     "output_type": "stream",
     "text": [
      "(A22)^-1*(T1*Ttau^-1)^-1*(A22)*(T1^-1*Ttau*T1^-1)*(A41) == -Tv^-1\n",
      "(A42)^-1*(T1*Ttau^-1)^-1*(A22)*(T1^-1*Ttau*T1^-1)*(A73) == -R\n"
     ]
    },
    {
     "name": "stdout",
     "output_type": "stream",
     "text": [
      "(A22)^-1*(T1*Ttau^-1)^-1*(A45)*(Ttau*Ttau*R)*(A45) == Ttau^-1*T1\n",
      "(A42)^-1*(T1*Ttau^-1)^-1*(A45)*(Ttau*Ttau*R)*(A44) == Tv*Ttau^-1\n"
     ]
    },
    {
     "name": "stdout",
     "output_type": "stream",
     "text": [
      "(I0)^-1*(T1*R)^-1*(I0)*(Tv^-1)*(A21) == T1*R*T1^-1\n",
      "(I0)^-1*(T1*R)^-1*(A21)*(Tv^-1*T1)*(A44) == T1*Ttau*R\n",
      "(A41)^-1*(T1*R)^-1*(A21)*(T1*Ttau^-1*T1)*(A22) == -Tv\n"
     ]
    },
    {
     "name": "stdout",
     "output_type": "stream",
     "text": [
      "(A73)^-1*(T1*R)^-1*(A21)*(T1*Ttau^-1*T1)*(A42) == -R\n"
     ]
    },
    {
     "name": "stdout",
     "output_type": "stream",
     "text": [
      "(A74)^-1*(T1*R)^-1*(A21)*(T1*R*T1^-1*T1^-1)*(A44) == Ttau^-1*T1^-1\n",
      "(I0)^-1*(T1*R)^-1*(A22)*(T1^-1*Ttau)*(I0) == Tv^-1*T1\n",
      "(A71)^-1*(T1*R)^-1*(A22)*(T1^-1*Ttau*T1^-1)*(A22) == -Ttau^-1*T1\n"
     ]
    },
    {
     "name": "stdout",
     "output_type": "stream",
     "text": [
      "(A72)^-1*(T1*R)^-1*(A22)*(T1^-1*T1^-1*Ttau*T1^-1)*(I0) == Tv*T1^-1\n",
      "(A73)^-1*(T1*R)^-1*(A22)*(Tv^-1*T1^-1*T1^-1)*(A44) == -Tv*Ttau*R\n"
     ]
    },
    {
     "name": "stdout",
     "output_type": "stream",
     "text": [
      "(I0)^-1*(T1*R)^-1*(A41)*(R*T1)*(I0) == -Tv^-1*T1*T1\n",
      "(I0)^-1*(T1*R)^-1*(A42)*(T1^-1*Ttau)*(I0) == -Ttau^-1*T1*T1*R\n"
     ]
    },
    {
     "name": "stdout",
     "output_type": "stream",
     "text": [
      "(I0)^-1*(T1*R)^-1*(A43)*(Tv^-1)*(A21) == Tv*Ttau^-1*T1^-1*T1^-1\n"
     ]
    },
    {
     "name": "stdout",
     "output_type": "stream",
     "text": [
      "(I0)^-1*(T1*R)^-1*(A44)*(Tv^-1*T1)*(A21) == T1*T1*Ttau*R\n",
      "(A71)^-1*(T1*R)^-1*(A44)*(T1)*(A43) == -R*T1^-1\n",
      "(A72)^-1*(T1*R)^-1*(A44)*(Tv^-1*T1*Ttau)*(A21) == T1*R\n",
      "(I0)^-1*(T1*R)^-1*(A45)*(Ttau*T1^-1)*(A45) == -Ttau^-1*T1\n",
      "(A72)^-1*(T1*R)^-1*(A45)*(Ttau)*(A21) == -Tv*Ttau^-1*T1^-1"
     ]
    },
    {
     "name": "stdout",
     "output_type": "stream",
     "text": [
      "\n"
     ]
    },
    {
     "name": "stdout",
     "output_type": "stream",
     "text": [
      "(A73)^-1*(T1*R)^-1*(A45)*(T1^-1*Ttau*Ttau*T1^-1)*(I0) == -Tv*T1^-1\n"
     ]
    },
    {
     "name": "stdout",
     "output_type": "stream",
     "text": [
      "(I0)^-1*(T1*R)^-1*(A72)*(R*T1^-1)*(A45) == T1*Ttau^-1*Ttau^-1*T1\n",
      "(I0)^-1*(T1*R)^-1*(A73)*(Ttau^-1)*(A22) == -T1*R\n",
      "(I0)^-1*(T1*R)^-1*(A74)*(Tv^-1*R)*(A21) == Id\n",
      "(I0)^-1*(T1*R)^-1*(A75)*(R)*(A44) == Id\n",
      "(I0)^-1*(T1*Ttau*R)^-1*(I0)*(Id)*(A43) == -T1*Ttau*R\n",
      "(A43)^-1*(T1*Ttau*R)^-1*(I0)*(T1*Ttau)*(I0) == -R\n",
      "(I0)^-1*(T1*Ttau*R)^-1*(A22)*(T1^-1*T1^-1)*(A43) == Ttau*R\n"
     ]
    },
    {
     "name": "stdout",
     "output_type": "stream",
     "text": [
      "(A22)^-1*(T1*Ttau*R)^-1*(A22)*(Id)*(Id) == T1^-1*T1^-1*Ttau*R\n",
      "(A41)^-1*(T1*Ttau*R)^-1*(A22)*(Tv^-1*T1^-1*R)*(A21) == -T1*R\n",
      "(A42)^-1*(T1*Ttau*R)^-1*(A22)*(T1^-1*T1^-1*Ttau)*(I0) == R\n"
     ]
    },
    {
     "name": "stdout",
     "output_type": "stream",
     "text": [
      "(A44)^-1*(T1*Ttau*R)^-1*(A22)*(Tv^-1)*(I0) == T1*Ttau\n",
      "(A73)^-1*(T1*Ttau*R)^-1*(A22)*(Tv^-1*T1^-1*R)*(A45) == Ttau*R\n",
      "(A74)^-1*(T1*Ttau*R)^-1*(A22)*(Tv^-1*R)*(A43) == Ttau^-1\n"
     ]
    },
    {
     "name": "stdout",
     "output_type": "stream",
     "text": [
      "(A22)^-1*(T1*Ttau*R)^-1*(A42)*(Id)*(I0) == T1^-1*T1^-1*Ttau*R\n",
      "(A42)^-1*(T1*Ttau*R)^-1*(A42)*(T1^-1)*(A42) == -T1^-1*Ttau*R\n",
      "(I0)^-1*(T1*Ttau*R)^-1*(A43)*(Id)*(I0) == -T1*Ttau*R\n"
     ]
    },
    {
     "name": "stdout",
     "output_type": "stream",
     "text": [
      "(A43)^-1*(T1*Ttau*R)^-1*(A43)*(Id)*(Id) == T1*Ttau*R\n",
      "(A22)^-1*(T1*Ttau*R)^-1*(A44)*(T1*Ttau)*(I0) == Tv^-1\n"
     ]
    },
    {
     "name": "stdout",
     "output_type": "stream",
     "text": [
      "(A42)^-1*(T1*Ttau*R)^-1*(A44)*(Tv^-1*T1*Ttau)*(A76) == Id\n",
      "(I0)^-1*(Tv*T1)^-1*(A21)*(Tv^-1*T1*T1)*(A42) == Ttau*R\n",
      "(I0)^-1*(Tv*T1*Ttau)^-1*(A21)*(Tv^-1*T1*T1)*(A22) == -Ttau^-1\n"
     ]
    },
    {
     "name": "stdout",
     "output_type": "stream",
     "text": [
      "(I0)^-1*(Tv*T1*Ttau)^-1*(A22)*(Tv^-1*T1^-1)*(A45) == -Ttau^-1\n",
      "(I0)^-1*(Tv*T1*Ttau)^-1*(A45)*(Ttau*T1^-1)*(A74) == Tv*T1^-1\n",
      "(I0)^-1*(Tv*T1*R)^-1*(A21)*(Tv^-1*T1*T1)*(A42) == Ttau^-1\n"
     ]
    },
    {
     "name": "stdout",
     "output_type": "stream",
     "text": [
      "(I0)^-1*(Tv*T1*Ttau*R)^-1*(A21)*(Tv^-1*T1*T1)*(A22) == -Ttau*R\n"
     ]
    },
    {
     "name": "stdout",
     "output_type": "stream",
     "text": [
      "(A43)^-1*(Tv*T1*Ttau*R)^-1*(A21)*(R*T1^-1*Ttau^-1*T1^-1)*(I0) == Ttau*R\n",
      "(I0)^-1*(Tv*T1*Ttau*R)^-1*(A22)*(Tv^-1*T1^-1)*(A45) == -Ttau*R\n",
      "(I0)^-1*(Tv*T1*Ttau*R)^-1*(A45)*(Ttau*T1^-1)*(A74) == T1*R\n",
      "(I0)^-1*(Tv^-1*T1)^-1*(I0)*(Ttau^-1)*(A22) == R*T1\n"
     ]
    },
    {
     "name": "stdout",
     "output_type": "stream",
     "text": [
      "(A21)^-1*(Tv^-1*T1)^-1*(I0)*(Tv^-1*T1)*(A21) == -T1*T1*Ttau*R\n",
      "(A41)^-1*(Tv^-1*T1)^-1*(I0)*(Tv^-1*T1*T1)*(I0) == -T1\n",
      "(A44)^-1*(Tv^-1*T1)^-1*(I0)*(Tv^-1*T1)*(A44) == -T1*Ttau*R\n"
     ]
    },
    {
     "name": "stdout",
     "output_type": "stream",
     "text": [
      "(A72)^-1*(Tv^-1*T1)^-1*(I0)*(Ttau^-1*T1)*(A44) == -Tv*Ttau*R\n",
      "(A73)^-1*(Tv^-1*T1)^-1*(I0)*(Ttau^-1*T1*T1)*(A21) == -Ttau*T1*R\n"
     ]
    },
    {
     "name": "stdout",
     "output_type": "stream",
     "text": [
      "(A74)^-1*(Tv^-1*T1)^-1*(I0)*(Tv^-1*T1)*(A22) == T1^-1*Ttau*R\n",
      "(A21)^-1*(Tv^-1*T1)^-1*(A43)*(Ttau)*(I0) == R*T1^-1\n",
      "(A75)^-1*(Tv^-1*T1)^-1*(A43)*(Tv^-1*Ttau)*(A21) == -Tv*T1^-1\n",
      "(A76)^-1*(Tv^-1*T1)^-1*(A43)*(Tv^-1*Ttau*R)*(A45) == -Ttau*R\n"
     ]
    },
    {
     "name": "stdout",
     "output_type": "stream",
     "text": [
      "(I0)^-1*(Tv^-1*T1*Ttau^-1)^-1*(I0)*(Ttau^-1*T1)*(I0) == -T1^-1*Ttau*R\n",
      "(A22)^-1*(Tv^-1*T1*Ttau^-1)^-1*(I0)*(Ttau^-1*T1)*(A22) == -T1^-1*Ttau*R\n",
      "(A42)^-1*(Tv^-1*T1*Ttau^-1)^-1*(I0)*(Ttau^-1*T1*T1)*(I0) == -T1\n",
      "(I0)^-1*(Tv^-1*T1*R)^-1*(I0)*(Ttau^-1)*(A22) == T1\n"
     ]
    },
    {
     "name": "stdout",
     "output_type": "stream",
     "text": [
      "(A21)^-1*(Tv^-1*T1*R)^-1*(I0)*(Tv^-1)*(A45) == -T1*Ttau^-1*T1\n",
      "(A22)^-1*(Tv^-1*T1*R)^-1*(I0)*(Tv^-1*T1)*(I0) == T1^-1*Ttau\n"
     ]
    },
    {
     "name": "stdout",
     "output_type": "stream",
     "text": [
      "(A41)^-1*(Tv^-1*T1*R)^-1*(I0)*(Tv^-1*T1*T1)*(I0) == -R*T1\n",
      "(A42)^-1*(Tv^-1*T1*R)^-1*(I0)*(Ttau^-1*T1*T1)*(I0) == -T1^-1*Ttau*R\n",
      "(A43)^-1*(Tv^-1*T1*R)^-1*(I0)*(R)*(A22) == T1\n",
      "(A44)^-1*(Tv^-1*T1*R)^-1*(I0)*(Tv^-1)*(A22) == T1*T1\n"
     ]
    },
    {
     "name": "stdout",
     "output_type": "stream",
     "text": [
      "(A72)^-1*(Tv^-1*T1*R)^-1*(I0)*(Ttau^-1*T1)*(A44) == -Tv*Ttau^-1\n",
      "(A73)^-1*(Tv^-1*T1*R)^-1*(I0)*(Ttau^-1*T1*T1)*(A21) == -Tv*Ttau^-1*T1^-1\n"
     ]
    },
    {
     "name": "stdout",
     "output_type": "stream",
     "text": [
      "(A74)^-1*(Tv^-1*T1*R)^-1*(I0)*(Tv^-1*T1)*(A22) == Ttau^-1*T1\n",
      "(A21)^-1*(Tv^-1*T1*R)^-1*(A43)*(Tv^-1*Ttau)*(A75) == -R*T1^-1\n",
      "(A75)^-1*(Tv^-1*T1*R)^-1*(A43)*(Tv^-1*Ttau)*(A21) == -T1*R\n",
      "(A76)^-1*(Tv^-1*T1*R)^-1*(A43)*(Tv^-1*Ttau*R)*(A45) == -Ttau^-1\n"
     ]
    },
    {
     "name": "stdout",
     "output_type": "stream",
     "text": [
      "(I0)^-1*(Tv^-1*T1*Ttau^-1*R)^-1*(I0)*(Ttau^-1*T1)*(I0) == -Ttau^-1*T1\n",
      "(I0)^-1*(T1^2)^-1*(A21)*(Tv^-1*T1*T1)*(A72) == T1^-1\n"
     ]
    },
    {
     "name": "stdout",
     "output_type": "stream",
     "text": [
      "(I0)^-1*(T1^2)^-1*(A22)*(Tv^-1*T1^-1*T1^-1)*(A21) == -Tv*T1^-1*T1^-1*T1^-1\n"
     ]
    },
    {
     "name": "stdout",
     "output_type": "stream",
     "text": [
      "(I0)^-1*(T1^2)^-1*(A45)*(Ttau*T1^-1*Ttau*R)*(A44) == R*T1*Ttau^-1\n"
     ]
    },
    {
     "name": "stdout",
     "output_type": "stream",
     "text": [
      "(I0)^-1*(T1^2*R)^-1*(A21)*(Tv^-1*T1*T1)*(A72) == R*T1^-1\n"
     ]
    },
    {
     "name": "stdout",
     "output_type": "stream",
     "text": [
      "(I0)^-1*(T1^2*R)^-1*(A22)*(Tv^-1*T1^-1*T1^-1)*(A21) == -T1*R*T1^-1*T1^-1\n"
     ]
    },
    {
     "name": "stderr",
     "output_type": "stream",
     "text": [
      "WARNING: Some output was deleted.\n"
     ]
    }
   ],
   "source": [
    "for C in cycles:\n",
    "    print(findRelation(C))"
   ]
  },
  {
   "cell_type": "code",
   "execution_count": 0,
   "metadata": {
    "collapsed": false
   },
   "outputs": [
   ],
   "source": [
   ]
  }
 ],
 "metadata": {
  "kernelspec": {
   "display_name": "SageMath (stable)",
   "language": "sagemath",
   "metadata": {
    "cocalc": {
     "description": "Open-source mathematical software system",
     "priority": 10,
     "url": "https://www.sagemath.org/"
    }
   },
   "name": "sagemath"
  },
  "language_info": {
   "codemirror_mode": {
    "name": "ipython",
    "version": 2
   },
   "file_extension": ".py",
   "mimetype": "text/x-python",
   "name": "python",
   "nbconvert_exporter": "python",
   "pygments_lexer": "ipython2",
   "version": "2.7.15"
  }
 },
 "nbformat": 4,
 "nbformat_minor": 0
}